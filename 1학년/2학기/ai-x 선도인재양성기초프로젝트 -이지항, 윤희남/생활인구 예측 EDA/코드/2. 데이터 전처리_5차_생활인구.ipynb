{
 "cells": [
  {
   "cell_type": "markdown",
   "id": "55add5c1",
   "metadata": {
    "id": "55add5c1"
   },
   "source": [
    "# 안녕하세요^^ \n",
    "# AIVLE 미니 프로젝트에 오신 여러분을 환영합니다.\n",
    "* 본 과정에서는 실제 사례와 데이터를 기반으로 문제를 해결하는 전체 과정을 자기 주도형 실습으로 진행해볼 예정입니다.\n",
    "* 앞선 교육과정을 정리하는 마음과 지금까지 배운 내용을 바탕으로 문제 해결을 해볼게요!\n",
    "* 미니 프로젝트를 통한 문제 해결 과정 'A에서 Z까지', 지금부터 시작합니다!"
   ]
  },
  {
   "cell_type": "markdown",
   "id": "84008ade",
   "metadata": {
    "id": "84008ade"
   },
   "source": [
    "---"
   ]
  },
  {
   "cell_type": "markdown",
   "id": "bright-evolution",
   "metadata": {
    "id": "bright-evolution"
   },
   "source": [
    "# (실습준비) 데이터 불러오기부터\n",
    "\n",
    "* 17년도부터 21년도 까지의 데이터를 train set, 22년도의 6개월치 데이터를 test set 으로 설정합니다."
   ]
  },
  {
   "cell_type": "code",
   "execution_count": 1,
   "id": "innocent-token",
   "metadata": {
    "executionInfo": {
     "elapsed": 864,
     "status": "ok",
     "timestamp": 1668758258027,
     "user": {
      "displayName": "Hojun Lee",
      "userId": "14713924399124402560"
     },
     "user_tz": -540
    },
    "id": "innocent-token"
   },
   "outputs": [],
   "source": [
    "import pandas as pd\n",
    "\n",
    "# 학습 데이터 로딩\n",
    "df_total = pd.read_csv('df_total.csv')\n",
    "df_test = pd.read_csv('df_test.csv')\n"
   ]
  },
  {
   "cell_type": "markdown",
   "id": "polished-myrtle",
   "metadata": {
    "id": "polished-myrtle"
   },
   "source": [
    "---"
   ]
  },
  {
   "cell_type": "markdown",
   "id": "palestinian-catalog",
   "metadata": {
    "id": "palestinian-catalog"
   },
   "source": [
    "# 1. 데이터 전처리"
   ]
  },
  {
   "cell_type": "markdown",
   "id": "89892756",
   "metadata": {
    "id": "89892756"
   },
   "source": [
    "#### [실습문제1] 열 추가 \n",
    "* 기존 '기준일ID'열에서 날짜 데이터를 추출하여 새로운 열로 추가 합니다.\n",
    "    - pd.to_datetime() 함수를 사용해 '기준일ID'열을 datetime 형식으로 변경하겠습니다.\n",
    "    - year, month, day 열로 기존 데이터 프레임에 연월일 정보를 저장합니다.\n",
    "    - 데이터 프레임 열에 대해 날짜 정보를 얻을 때에는 **dt.year**, **dt.month**, **dt.day** 속성을 사용합니다. "
   ]
  },
  {
   "cell_type": "code",
   "execution_count": 2,
   "id": "3553fb5f",
   "metadata": {
    "executionInfo": {
     "elapsed": 1,
     "status": "ok",
     "timestamp": 1668758258464,
     "user": {
      "displayName": "Hojun Lee",
      "userId": "14713924399124402560"
     },
     "user_tz": -540
    },
    "id": "3553fb5f"
   },
   "outputs": [],
   "source": [
    "# 아래에 실습코드를 작성하고 결과를 확인합니다.\n",
    "\n",
    "df_total['기준일ID'] = pd.to_datetime(df_total['기준일ID'])\n",
    "\n",
    "df_total['year'] = df_total['기준일ID'].dt.year\n",
    "df_total['month'] = df_total['기준일ID'].dt.month\n",
    "df_total['day'] = df_total['기준일ID'].dt.day\n"
   ]
  },
  {
   "cell_type": "code",
   "execution_count": 3,
   "id": "85808d0d",
   "metadata": {
    "executionInfo": {
     "elapsed": 4,
     "status": "ok",
     "timestamp": 1668758259090,
     "user": {
      "displayName": "Hojun Lee",
      "userId": "14713924399124402560"
     },
     "user_tz": -540
    },
    "id": "85808d0d"
   },
   "outputs": [],
   "source": [
    "# 아래에 실습코드를 작성하고 결과를 확인합니다.\n",
    "\n",
    "df_test['기준일ID'] = pd.to_datetime(df_test['기준일ID'])\n",
    "\n",
    "df_test['year'] = df_test['기준일ID'].dt.year\n",
    "df_test['month'] = df_test['기준일ID'].dt.month\n",
    "df_test['day'] = df_test['기준일ID'].dt.day"
   ]
  },
  {
   "cell_type": "code",
   "execution_count": 4,
   "id": "9baef853",
   "metadata": {},
   "outputs": [
    {
     "name": "stdout",
     "output_type": "stream",
     "text": [
      "<class 'pandas.core.frame.DataFrame'>\n",
      "RangeIndex: 43512 entries, 0 to 43511\n",
      "Data columns (total 34 columns):\n",
      " #   Column           Non-Null Count  Dtype         \n",
      "---  ------           --------------  -----         \n",
      " 0   기준일ID            43512 non-null  datetime64[ns]\n",
      " 1   시간대구분            43512 non-null  int64         \n",
      " 2   총생활인구수           43512 non-null  float64       \n",
      " 3   남자0세부터9세생활인구수    43512 non-null  float64       \n",
      " 4   남자10세부터14세생활인구수  43512 non-null  float64       \n",
      " 5   남자15세부터19세생활인구수  43512 non-null  float64       \n",
      " 6   남자20세부터24세생활인구수  43512 non-null  float64       \n",
      " 7   남자25세부터29세생활인구수  43512 non-null  float64       \n",
      " 8   남자30세부터34세생활인구수  43512 non-null  float64       \n",
      " 9   남자35세부터39세생활인구수  43512 non-null  float64       \n",
      " 10  남자40세부터44세생활인구수  43512 non-null  float64       \n",
      " 11  남자45세부터49세생활인구수  43512 non-null  float64       \n",
      " 12  남자50세부터54세생활인구수  43512 non-null  float64       \n",
      " 13  남자55세부터59세생활인구수  43512 non-null  float64       \n",
      " 14  남자60세부터64세생활인구수  43512 non-null  float64       \n",
      " 15  남자65세부터69세생활인구수  43512 non-null  float64       \n",
      " 16  남자70세이상생활인구수     43512 non-null  float64       \n",
      " 17  여자0세부터9세생활인구수    43512 non-null  float64       \n",
      " 18  여자10세부터14세생활인구수  43512 non-null  float64       \n",
      " 19  여자15세부터19세생활인구수  43512 non-null  float64       \n",
      " 20  여자20세부터24세생활인구수  43512 non-null  float64       \n",
      " 21  여자25세부터29세생활인구수  43512 non-null  float64       \n",
      " 22  여자30세부터34세생활인구수  43512 non-null  float64       \n",
      " 23  여자35세부터39세생활인구수  43512 non-null  float64       \n",
      " 24  여자40세부터44세생활인구수  43512 non-null  float64       \n",
      " 25  여자45세부터49세생활인구수  43512 non-null  float64       \n",
      " 26  여자50세부터54세생활인구수  43512 non-null  float64       \n",
      " 27  여자55세부터59세생활인구수  43512 non-null  float64       \n",
      " 28  여자60세부터64세생활인구수  43512 non-null  float64       \n",
      " 29  여자65세부터69세생활인구수  43512 non-null  float64       \n",
      " 30  여자70세이상생활인구수     43512 non-null  float64       \n",
      " 31  year             43512 non-null  int64         \n",
      " 32  month            43512 non-null  int64         \n",
      " 33  day              43512 non-null  int64         \n",
      "dtypes: datetime64[ns](1), float64(29), int64(4)\n",
      "memory usage: 11.3 MB\n"
     ]
    }
   ],
   "source": [
    "df_total.info()"
   ]
  },
  {
   "cell_type": "markdown",
   "id": "fefaf235",
   "metadata": {
    "id": "fefaf235"
   },
   "source": [
    "#### [실습문제2] 불필요한 열 제거 및 열 이름 변경\n",
    "* df_total과 df_test에서 '총생활인구수'외에 불필요한 열을 제거 하도록 하겠습니다.\n",
    "* 시간 데이터를 남기고, '시간대구분' column 을 'hour'로 rename 하도록 하겠습니다. "
   ]
  },
  {
   "cell_type": "code",
   "execution_count": 5,
   "id": "2f024b9b",
   "metadata": {
    "colab": {
     "base_uri": "https://localhost:8080/"
    },
    "executionInfo": {
     "elapsed": 3,
     "status": "ok",
     "timestamp": 1668758259090,
     "user": {
      "displayName": "Hojun Lee",
      "userId": "14713924399124402560"
     },
     "user_tz": -540
    },
    "id": "2f024b9b",
    "outputId": "427db181-1dfe-4e7d-82b0-01a14365b8f0"
   },
   "outputs": [],
   "source": [
    "# 아래에 실습코드를 작성하고 결과를 확인합니다.\n",
    "\n",
    "df_total = df_total[['year','month','day','시간대구분','총생활인구수']]\n",
    "df_total.rename(columns={'시간대구분':'hour'},inplace=True)"
   ]
  },
  {
   "cell_type": "code",
   "execution_count": 6,
   "id": "0bd4ebf8",
   "metadata": {
    "executionInfo": {
     "elapsed": 2,
     "status": "ok",
     "timestamp": 1668758259565,
     "user": {
      "displayName": "Hojun Lee",
      "userId": "14713924399124402560"
     },
     "user_tz": -540
    },
    "id": "0bd4ebf8"
   },
   "outputs": [],
   "source": [
    "# 아래에 실습코드를 작성하고 결과를 확인합니다.\n",
    "\n",
    "df_test = df_test[['year','month','day','시간대구분','총생활인구수']]\n",
    "df_test.rename(columns={'시간대구분':'hour'},inplace=True)"
   ]
  },
  {
   "cell_type": "code",
   "execution_count": 7,
   "id": "5c534e90",
   "metadata": {},
   "outputs": [
    {
     "data": {
      "text/html": [
       "<div>\n",
       "<style scoped>\n",
       "    .dataframe tbody tr th:only-of-type {\n",
       "        vertical-align: middle;\n",
       "    }\n",
       "\n",
       "    .dataframe tbody tr th {\n",
       "        vertical-align: top;\n",
       "    }\n",
       "\n",
       "    .dataframe thead th {\n",
       "        text-align: right;\n",
       "    }\n",
       "</style>\n",
       "<table border=\"1\" class=\"dataframe\">\n",
       "  <thead>\n",
       "    <tr style=\"text-align: right;\">\n",
       "      <th></th>\n",
       "      <th>year</th>\n",
       "      <th>month</th>\n",
       "      <th>day</th>\n",
       "      <th>hour</th>\n",
       "      <th>총생활인구수</th>\n",
       "    </tr>\n",
       "  </thead>\n",
       "  <tbody>\n",
       "    <tr>\n",
       "      <th>0</th>\n",
       "      <td>2017</td>\n",
       "      <td>1</td>\n",
       "      <td>1</td>\n",
       "      <td>0</td>\n",
       "      <td>31535.2200</td>\n",
       "    </tr>\n",
       "    <tr>\n",
       "      <th>1</th>\n",
       "      <td>2017</td>\n",
       "      <td>1</td>\n",
       "      <td>1</td>\n",
       "      <td>1</td>\n",
       "      <td>31188.9174</td>\n",
       "    </tr>\n",
       "    <tr>\n",
       "      <th>2</th>\n",
       "      <td>2017</td>\n",
       "      <td>1</td>\n",
       "      <td>1</td>\n",
       "      <td>2</td>\n",
       "      <td>31240.4974</td>\n",
       "    </tr>\n",
       "    <tr>\n",
       "      <th>3</th>\n",
       "      <td>2017</td>\n",
       "      <td>1</td>\n",
       "      <td>1</td>\n",
       "      <td>3</td>\n",
       "      <td>31442.4314</td>\n",
       "    </tr>\n",
       "    <tr>\n",
       "      <th>4</th>\n",
       "      <td>2017</td>\n",
       "      <td>1</td>\n",
       "      <td>1</td>\n",
       "      <td>4</td>\n",
       "      <td>31922.7751</td>\n",
       "    </tr>\n",
       "  </tbody>\n",
       "</table>\n",
       "</div>"
      ],
      "text/plain": [
       "   year  month  day  hour      총생활인구수\n",
       "0  2017      1    1     0  31535.2200\n",
       "1  2017      1    1     1  31188.9174\n",
       "2  2017      1    1     2  31240.4974\n",
       "3  2017      1    1     3  31442.4314\n",
       "4  2017      1    1     4  31922.7751"
      ]
     },
     "execution_count": 7,
     "metadata": {},
     "output_type": "execute_result"
    }
   ],
   "source": [
    "df_total.head()"
   ]
  },
  {
   "cell_type": "markdown",
   "id": "Xfw0uvC795To",
   "metadata": {
    "id": "Xfw0uvC795To"
   },
   "source": [
    "#### [실습문제3] 시프트 & 롤링\n",
    "* shift()를 활용하여 이동할 행 수를 지정합니다.\n",
    "* rolling()을 활용하여 추가할 이동평균 수를 지정합니다."
   ]
  },
  {
   "cell_type": "code",
   "execution_count": 8,
   "id": "60c1c633",
   "metadata": {
    "executionInfo": {
     "elapsed": 2,
     "status": "ok",
     "timestamp": 1668758259565,
     "user": {
      "displayName": "Hojun Lee",
      "userId": "14713924399124402560"
     },
     "user_tz": -540
    },
    "id": "60c1c633"
   },
   "outputs": [],
   "source": [
    "# 아래에 실습코드를 작성하고 결과를 확인합니다.\n",
    "\n",
    "df_total['1d'] = df_total['총생활인구수'].shift(24)\n",
    "df_total['7d'] = df_total['총생활인구수'].shift(24*7)"
   ]
  },
  {
   "cell_type": "code",
   "execution_count": 9,
   "id": "qbGppqayt7t2",
   "metadata": {
    "colab": {
     "base_uri": "https://localhost:8080/",
     "height": 990
    },
    "executionInfo": {
     "elapsed": 4,
     "status": "ok",
     "timestamp": 1668758261053,
     "user": {
      "displayName": "Hojun Lee",
      "userId": "14713924399124402560"
     },
     "user_tz": -540
    },
    "id": "qbGppqayt7t2",
    "outputId": "866241bb-914c-441d-e012-b50793274199"
   },
   "outputs": [
    {
     "data": {
      "text/html": [
       "<div>\n",
       "<style scoped>\n",
       "    .dataframe tbody tr th:only-of-type {\n",
       "        vertical-align: middle;\n",
       "    }\n",
       "\n",
       "    .dataframe tbody tr th {\n",
       "        vertical-align: top;\n",
       "    }\n",
       "\n",
       "    .dataframe thead th {\n",
       "        text-align: right;\n",
       "    }\n",
       "</style>\n",
       "<table border=\"1\" class=\"dataframe\">\n",
       "  <thead>\n",
       "    <tr style=\"text-align: right;\">\n",
       "      <th></th>\n",
       "      <th>year</th>\n",
       "      <th>month</th>\n",
       "      <th>day</th>\n",
       "      <th>hour</th>\n",
       "      <th>총생활인구수</th>\n",
       "      <th>1d</th>\n",
       "      <th>7d</th>\n",
       "    </tr>\n",
       "  </thead>\n",
       "  <tbody>\n",
       "    <tr>\n",
       "      <th>0</th>\n",
       "      <td>2017</td>\n",
       "      <td>1</td>\n",
       "      <td>1</td>\n",
       "      <td>0</td>\n",
       "      <td>31535.2200</td>\n",
       "      <td>NaN</td>\n",
       "      <td>NaN</td>\n",
       "    </tr>\n",
       "    <tr>\n",
       "      <th>1</th>\n",
       "      <td>2017</td>\n",
       "      <td>1</td>\n",
       "      <td>1</td>\n",
       "      <td>1</td>\n",
       "      <td>31188.9174</td>\n",
       "      <td>NaN</td>\n",
       "      <td>NaN</td>\n",
       "    </tr>\n",
       "    <tr>\n",
       "      <th>2</th>\n",
       "      <td>2017</td>\n",
       "      <td>1</td>\n",
       "      <td>1</td>\n",
       "      <td>2</td>\n",
       "      <td>31240.4974</td>\n",
       "      <td>NaN</td>\n",
       "      <td>NaN</td>\n",
       "    </tr>\n",
       "    <tr>\n",
       "      <th>3</th>\n",
       "      <td>2017</td>\n",
       "      <td>1</td>\n",
       "      <td>1</td>\n",
       "      <td>3</td>\n",
       "      <td>31442.4314</td>\n",
       "      <td>NaN</td>\n",
       "      <td>NaN</td>\n",
       "    </tr>\n",
       "    <tr>\n",
       "      <th>4</th>\n",
       "      <td>2017</td>\n",
       "      <td>1</td>\n",
       "      <td>1</td>\n",
       "      <td>4</td>\n",
       "      <td>31922.7751</td>\n",
       "      <td>NaN</td>\n",
       "      <td>NaN</td>\n",
       "    </tr>\n",
       "    <tr>\n",
       "      <th>5</th>\n",
       "      <td>2017</td>\n",
       "      <td>1</td>\n",
       "      <td>1</td>\n",
       "      <td>5</td>\n",
       "      <td>33633.7304</td>\n",
       "      <td>NaN</td>\n",
       "      <td>NaN</td>\n",
       "    </tr>\n",
       "    <tr>\n",
       "      <th>6</th>\n",
       "      <td>2017</td>\n",
       "      <td>1</td>\n",
       "      <td>1</td>\n",
       "      <td>6</td>\n",
       "      <td>34876.8006</td>\n",
       "      <td>NaN</td>\n",
       "      <td>NaN</td>\n",
       "    </tr>\n",
       "    <tr>\n",
       "      <th>7</th>\n",
       "      <td>2017</td>\n",
       "      <td>1</td>\n",
       "      <td>1</td>\n",
       "      <td>7</td>\n",
       "      <td>35358.9775</td>\n",
       "      <td>NaN</td>\n",
       "      <td>NaN</td>\n",
       "    </tr>\n",
       "    <tr>\n",
       "      <th>8</th>\n",
       "      <td>2017</td>\n",
       "      <td>1</td>\n",
       "      <td>1</td>\n",
       "      <td>8</td>\n",
       "      <td>36038.7688</td>\n",
       "      <td>NaN</td>\n",
       "      <td>NaN</td>\n",
       "    </tr>\n",
       "    <tr>\n",
       "      <th>9</th>\n",
       "      <td>2017</td>\n",
       "      <td>1</td>\n",
       "      <td>1</td>\n",
       "      <td>9</td>\n",
       "      <td>37353.1794</td>\n",
       "      <td>NaN</td>\n",
       "      <td>NaN</td>\n",
       "    </tr>\n",
       "    <tr>\n",
       "      <th>10</th>\n",
       "      <td>2017</td>\n",
       "      <td>1</td>\n",
       "      <td>1</td>\n",
       "      <td>10</td>\n",
       "      <td>37534.7596</td>\n",
       "      <td>NaN</td>\n",
       "      <td>NaN</td>\n",
       "    </tr>\n",
       "    <tr>\n",
       "      <th>11</th>\n",
       "      <td>2017</td>\n",
       "      <td>1</td>\n",
       "      <td>1</td>\n",
       "      <td>11</td>\n",
       "      <td>38257.1671</td>\n",
       "      <td>NaN</td>\n",
       "      <td>NaN</td>\n",
       "    </tr>\n",
       "    <tr>\n",
       "      <th>12</th>\n",
       "      <td>2017</td>\n",
       "      <td>1</td>\n",
       "      <td>1</td>\n",
       "      <td>12</td>\n",
       "      <td>38423.5288</td>\n",
       "      <td>NaN</td>\n",
       "      <td>NaN</td>\n",
       "    </tr>\n",
       "    <tr>\n",
       "      <th>13</th>\n",
       "      <td>2017</td>\n",
       "      <td>1</td>\n",
       "      <td>1</td>\n",
       "      <td>13</td>\n",
       "      <td>37666.9073</td>\n",
       "      <td>NaN</td>\n",
       "      <td>NaN</td>\n",
       "    </tr>\n",
       "    <tr>\n",
       "      <th>14</th>\n",
       "      <td>2017</td>\n",
       "      <td>1</td>\n",
       "      <td>1</td>\n",
       "      <td>14</td>\n",
       "      <td>37287.4833</td>\n",
       "      <td>NaN</td>\n",
       "      <td>NaN</td>\n",
       "    </tr>\n",
       "    <tr>\n",
       "      <th>15</th>\n",
       "      <td>2017</td>\n",
       "      <td>1</td>\n",
       "      <td>1</td>\n",
       "      <td>15</td>\n",
       "      <td>38144.0804</td>\n",
       "      <td>NaN</td>\n",
       "      <td>NaN</td>\n",
       "    </tr>\n",
       "    <tr>\n",
       "      <th>16</th>\n",
       "      <td>2017</td>\n",
       "      <td>1</td>\n",
       "      <td>1</td>\n",
       "      <td>16</td>\n",
       "      <td>37444.9623</td>\n",
       "      <td>NaN</td>\n",
       "      <td>NaN</td>\n",
       "    </tr>\n",
       "    <tr>\n",
       "      <th>17</th>\n",
       "      <td>2017</td>\n",
       "      <td>1</td>\n",
       "      <td>1</td>\n",
       "      <td>17</td>\n",
       "      <td>37292.5709</td>\n",
       "      <td>NaN</td>\n",
       "      <td>NaN</td>\n",
       "    </tr>\n",
       "    <tr>\n",
       "      <th>18</th>\n",
       "      <td>2017</td>\n",
       "      <td>1</td>\n",
       "      <td>1</td>\n",
       "      <td>18</td>\n",
       "      <td>38139.0160</td>\n",
       "      <td>NaN</td>\n",
       "      <td>NaN</td>\n",
       "    </tr>\n",
       "    <tr>\n",
       "      <th>19</th>\n",
       "      <td>2017</td>\n",
       "      <td>1</td>\n",
       "      <td>1</td>\n",
       "      <td>19</td>\n",
       "      <td>37368.8302</td>\n",
       "      <td>NaN</td>\n",
       "      <td>NaN</td>\n",
       "    </tr>\n",
       "    <tr>\n",
       "      <th>20</th>\n",
       "      <td>2017</td>\n",
       "      <td>1</td>\n",
       "      <td>1</td>\n",
       "      <td>20</td>\n",
       "      <td>35517.1900</td>\n",
       "      <td>NaN</td>\n",
       "      <td>NaN</td>\n",
       "    </tr>\n",
       "    <tr>\n",
       "      <th>21</th>\n",
       "      <td>2017</td>\n",
       "      <td>1</td>\n",
       "      <td>1</td>\n",
       "      <td>21</td>\n",
       "      <td>34695.3430</td>\n",
       "      <td>NaN</td>\n",
       "      <td>NaN</td>\n",
       "    </tr>\n",
       "    <tr>\n",
       "      <th>22</th>\n",
       "      <td>2017</td>\n",
       "      <td>1</td>\n",
       "      <td>1</td>\n",
       "      <td>22</td>\n",
       "      <td>35035.7382</td>\n",
       "      <td>NaN</td>\n",
       "      <td>NaN</td>\n",
       "    </tr>\n",
       "    <tr>\n",
       "      <th>23</th>\n",
       "      <td>2017</td>\n",
       "      <td>1</td>\n",
       "      <td>1</td>\n",
       "      <td>23</td>\n",
       "      <td>30863.1777</td>\n",
       "      <td>NaN</td>\n",
       "      <td>NaN</td>\n",
       "    </tr>\n",
       "    <tr>\n",
       "      <th>24</th>\n",
       "      <td>2017</td>\n",
       "      <td>1</td>\n",
       "      <td>2</td>\n",
       "      <td>0</td>\n",
       "      <td>31290.0276</td>\n",
       "      <td>31535.2200</td>\n",
       "      <td>NaN</td>\n",
       "    </tr>\n",
       "    <tr>\n",
       "      <th>25</th>\n",
       "      <td>2017</td>\n",
       "      <td>1</td>\n",
       "      <td>2</td>\n",
       "      <td>1</td>\n",
       "      <td>31221.5248</td>\n",
       "      <td>31188.9174</td>\n",
       "      <td>NaN</td>\n",
       "    </tr>\n",
       "    <tr>\n",
       "      <th>26</th>\n",
       "      <td>2017</td>\n",
       "      <td>1</td>\n",
       "      <td>2</td>\n",
       "      <td>2</td>\n",
       "      <td>31283.4217</td>\n",
       "      <td>31240.4974</td>\n",
       "      <td>NaN</td>\n",
       "    </tr>\n",
       "    <tr>\n",
       "      <th>27</th>\n",
       "      <td>2017</td>\n",
       "      <td>1</td>\n",
       "      <td>2</td>\n",
       "      <td>3</td>\n",
       "      <td>31384.6021</td>\n",
       "      <td>31442.4314</td>\n",
       "      <td>NaN</td>\n",
       "    </tr>\n",
       "    <tr>\n",
       "      <th>28</th>\n",
       "      <td>2017</td>\n",
       "      <td>1</td>\n",
       "      <td>2</td>\n",
       "      <td>4</td>\n",
       "      <td>32104.6669</td>\n",
       "      <td>31922.7751</td>\n",
       "      <td>NaN</td>\n",
       "    </tr>\n",
       "    <tr>\n",
       "      <th>29</th>\n",
       "      <td>2017</td>\n",
       "      <td>1</td>\n",
       "      <td>2</td>\n",
       "      <td>5</td>\n",
       "      <td>34465.2673</td>\n",
       "      <td>33633.7304</td>\n",
       "      <td>NaN</td>\n",
       "    </tr>\n",
       "  </tbody>\n",
       "</table>\n",
       "</div>"
      ],
      "text/plain": [
       "    year  month  day  hour      총생활인구수          1d  7d\n",
       "0   2017      1    1     0  31535.2200         NaN NaN\n",
       "1   2017      1    1     1  31188.9174         NaN NaN\n",
       "2   2017      1    1     2  31240.4974         NaN NaN\n",
       "3   2017      1    1     3  31442.4314         NaN NaN\n",
       "4   2017      1    1     4  31922.7751         NaN NaN\n",
       "5   2017      1    1     5  33633.7304         NaN NaN\n",
       "6   2017      1    1     6  34876.8006         NaN NaN\n",
       "7   2017      1    1     7  35358.9775         NaN NaN\n",
       "8   2017      1    1     8  36038.7688         NaN NaN\n",
       "9   2017      1    1     9  37353.1794         NaN NaN\n",
       "10  2017      1    1    10  37534.7596         NaN NaN\n",
       "11  2017      1    1    11  38257.1671         NaN NaN\n",
       "12  2017      1    1    12  38423.5288         NaN NaN\n",
       "13  2017      1    1    13  37666.9073         NaN NaN\n",
       "14  2017      1    1    14  37287.4833         NaN NaN\n",
       "15  2017      1    1    15  38144.0804         NaN NaN\n",
       "16  2017      1    1    16  37444.9623         NaN NaN\n",
       "17  2017      1    1    17  37292.5709         NaN NaN\n",
       "18  2017      1    1    18  38139.0160         NaN NaN\n",
       "19  2017      1    1    19  37368.8302         NaN NaN\n",
       "20  2017      1    1    20  35517.1900         NaN NaN\n",
       "21  2017      1    1    21  34695.3430         NaN NaN\n",
       "22  2017      1    1    22  35035.7382         NaN NaN\n",
       "23  2017      1    1    23  30863.1777         NaN NaN\n",
       "24  2017      1    2     0  31290.0276  31535.2200 NaN\n",
       "25  2017      1    2     1  31221.5248  31188.9174 NaN\n",
       "26  2017      1    2     2  31283.4217  31240.4974 NaN\n",
       "27  2017      1    2     3  31384.6021  31442.4314 NaN\n",
       "28  2017      1    2     4  32104.6669  31922.7751 NaN\n",
       "29  2017      1    2     5  34465.2673  33633.7304 NaN"
      ]
     },
     "execution_count": 9,
     "metadata": {},
     "output_type": "execute_result"
    }
   ],
   "source": [
    "df_total.head(30)"
   ]
  },
  {
   "cell_type": "code",
   "execution_count": 10,
   "id": "6b4d6ebd",
   "metadata": {
    "executionInfo": {
     "elapsed": 3,
     "status": "ok",
     "timestamp": 1668758261053,
     "user": {
      "displayName": "Hojun Lee",
      "userId": "14713924399124402560"
     },
     "user_tz": -540
    },
    "id": "6b4d6ebd"
   },
   "outputs": [],
   "source": [
    "# 아래에 실습코드를 작성하고 결과를 확인합니다.\n",
    "\n",
    "df_test['1d'] = df_test['총생활인구수'].shift(24)\n",
    "df_test['7d'] = df_test['총생활인구수'].shift(24*7)"
   ]
  },
  {
   "cell_type": "markdown",
   "id": "combined-python",
   "metadata": {
    "id": "combined-python"
   },
   "source": [
    "#### [실습문제4] 결측치 처리 및 불필요한 열 제거\n",
    "* 롤링 & 시프트 과정에서 발생한 결측치를 처리하도록 하겠습니다.\n",
    "* 불필요한 열을 추가로 제거 하겠습니다.(시간 관련 행들)"
   ]
  },
  {
   "cell_type": "code",
   "execution_count": 11,
   "id": "de88e130",
   "metadata": {
    "id": "de88e130"
   },
   "outputs": [],
   "source": [
    "# 아래에 실습코드를 작성하고 결과를 확인합니다.\n",
    "\n",
    "df_total = df_total.drop(['year','month','day','hour'], axis=1)\n",
    "df_total = df_total.dropna()"
   ]
  },
  {
   "cell_type": "code",
   "execution_count": 12,
   "id": "driven-optimization",
   "metadata": {
    "id": "driven-optimization"
   },
   "outputs": [],
   "source": [
    "# 아래에 실습코드를 작성하고 결과를 확인합니다.\n",
    "\n",
    "df_test = df_test.drop(['year','month','day','hour'], axis=1)\n",
    "df_test = df_test.dropna()"
   ]
  },
  {
   "cell_type": "markdown",
   "id": "dependent-motion",
   "metadata": {
    "id": "dependent-motion"
   },
   "source": [
    "#### [실습문제5] train, test 데이터 나누기\n",
    "* df_total과 df_test를 각각 train_x, train_y, test_x, test_y 로 나누어 주세요.\n",
    "* 인덱스를 리셋 해주세요."
   ]
  },
  {
   "cell_type": "code",
   "execution_count": 13,
   "id": "92652b6b",
   "metadata": {
    "id": "92652b6b"
   },
   "outputs": [],
   "source": [
    "# 아래에 실습코드를 작성하고 결과를 확인합니다.\n",
    "\n",
    "train_x = df_total.iloc[ :,1:]\n",
    "train_y = df_total.iloc[ :,:1]\n",
    "\n",
    "test_x = df_test.iloc[ :,1:]\n",
    "test_y = df_test.iloc[ :,:1]"
   ]
  },
  {
   "cell_type": "code",
   "execution_count": 14,
   "id": "b49c4fb9",
   "metadata": {
    "id": "b49c4fb9"
   },
   "outputs": [],
   "source": [
    "# 아래에 실습코드를 작성하고 결과를 확인합니다.\n",
    "\n",
    "train_x = train_x.reset_index(drop=True)\n",
    "train_y = train_y.reset_index(drop=True)\n",
    "test_x = test_x.reset_index(drop=True)\n",
    "test_y = test_y.reset_index(drop=True)"
   ]
  },
  {
   "cell_type": "markdown",
   "id": "dramatic-meditation",
   "metadata": {
    "id": "dramatic-meditation"
   },
   "source": [
    "---"
   ]
  },
  {
   "cell_type": "markdown",
   "id": "bridal-closer",
   "metadata": {
    "id": "bridal-closer"
   },
   "source": [
    "## 다음 단계를 위해서 데이터를 저장하겠습니다."
   ]
  },
  {
   "cell_type": "code",
   "execution_count": 15,
   "id": "designed-cartridge",
   "metadata": {
    "id": "designed-cartridge"
   },
   "outputs": [],
   "source": [
    "# CSV로 저장\n",
    "train_x.to_csv('train_x.csv', index = False)\n",
    "train_y.to_csv('train_y.csv', index = False)\n",
    "test_x.to_csv('test_x.csv', index = False)\n",
    "test_y.to_csv('test_y.csv', index = False)"
   ]
  },
  {
   "cell_type": "markdown",
   "id": "b70ee587",
   "metadata": {
    "id": "b70ee587"
   },
   "source": [
    "---"
   ]
  }
 ],
 "metadata": {
  "colab": {
   "provenance": []
  },
  "kernelspec": {
   "display_name": "Python 3 (ipykernel)",
   "language": "python",
   "name": "python3"
  },
  "language_info": {
   "codemirror_mode": {
    "name": "ipython",
    "version": 3
   },
   "file_extension": ".py",
   "mimetype": "text/x-python",
   "name": "python",
   "nbconvert_exporter": "python",
   "pygments_lexer": "ipython3",
   "version": "3.10.6"
  },
  "vscode": {
   "interpreter": {
    "hash": "f08154012ddadd8e950e6e9e035c7a7b32c136e7647e9b7c77e02eb723a8bedb"
   }
  }
 },
 "nbformat": 4,
 "nbformat_minor": 5
}
