{
  "nbformat": 4,
  "nbformat_minor": 0,
  "metadata": {
    "colab": {
      "provenance": []
    },
    "kernelspec": {
      "name": "python3",
      "display_name": "Python 3"
    },
    "language_info": {
      "name": "python"
    }
  },
  "cells": [
    {
      "cell_type": "code",
      "execution_count": 27,
      "metadata": {
        "id": "g4AzTM9hY983"
      },
      "outputs": [],
      "source": [
        "yesterday=[\n",
        "[\"Yesterday 어제는\"],\n",
        "[\"All my troubles seemed to far away 내 모든 문제들이 참 멀리 있는 것 같았는데\"],\n",
        "[\"Now it looks as though they're here to stay 이제는 그 모든 문제들이 여기에 있는 것처럼 보여\"],\n",
        "[\"Oh, I believe in yesterday 오오, 어제가 좋았는데\"],\n",
        "[\"Suddenly 갑자기 그-림-자-가 2021 그-림-자-가 2021\"],\n",
        "[\"I'm not half the man I used to be 난 예전 내 모습의 반도 못한 사람이 되어버렸어\"],\n",
        "[\"There's a shadow hanging over me 내 위에 그림자가 드리워져 있네\"],\n",
        "[\"Oh!, yesterday came suddenly 오오!, 이제는 너무 갑자기 와버렸어..\"]\n",
        "]"
      ]
    },
    {
      "cell_type": "code",
      "source": [
        "!pip install pyspark"
      ],
      "metadata": {
        "colab": {
          "base_uri": "https://localhost:8080/"
        },
        "id": "rma55CjhaiU0",
        "outputId": "bd90e28d-84ab-4d77-eeb7-a2bafe2db988"
      },
      "execution_count": 28,
      "outputs": [
        {
          "output_type": "stream",
          "name": "stdout",
          "text": [
            "Requirement already satisfied: pyspark in /usr/local/lib/python3.10/dist-packages (3.5.0)\n",
            "Requirement already satisfied: py4j==0.10.9.7 in /usr/local/lib/python3.10/dist-packages (from pyspark) (0.10.9.7)\n"
          ]
        }
      ]
    },
    {
      "cell_type": "code",
      "source": [
        "import os\n",
        "import pyspark\n",
        "\n",
        "\n",
        "myConf=pyspark.SparkConf()\n",
        "spark = pyspark.sql.SparkSession\\\n",
        "    .builder\\\n",
        "    .master(\"local\")\\\n",
        "    .appName(\"myApp\")\\\n",
        "    .config(conf=myConf)\\\n",
        "    .getOrCreate()"
      ],
      "metadata": {
        "id": "gnzccTCmaJN1"
      },
      "execution_count": 29,
      "outputs": []
    },
    {
      "cell_type": "code",
      "source": [
        "yRdd_1 = spark.sparkContext.parallelize(yesterday)"
      ],
      "metadata": {
        "id": "d3imdVgTa-5u"
      },
      "execution_count": 30,
      "outputs": []
    },
    {
      "cell_type": "markdown",
      "source": [
        "flatMap() : 리스트 하나 제거"
      ],
      "metadata": {
        "id": "r-j4Gv6tbaLP"
      }
    },
    {
      "cell_type": "code",
      "source": [
        "yRdd_1.flatMap(lambda x: x)\\\n",
        "    .flatMap(lambda x: x.split())\\\n",
        "    .map(lambda x: (x, 1))\\\n",
        "    .reduceByKey(lambda x,y:x+y)\\\n",
        "    .collect()"
      ],
      "metadata": {
        "colab": {
          "base_uri": "https://localhost:8080/"
        },
        "id": "S6kmKpzkbL5q",
        "outputId": "6dbfa961-2eb1-4e09-bbf4-568e7f084583"
      },
      "execution_count": null,
      "outputs": [
        {
          "output_type": "execute_result",
          "data": {
            "text/plain": [
              "[('Yesterday', 1),\n",
              " ('어제는', 1),\n",
              " ('All', 1),\n",
              " ('my', 1),\n",
              " ('troubles', 1),\n",
              " ('seemed', 1),\n",
              " ('to', 3),\n",
              " ('far', 1),\n",
              " ('away', 1),\n",
              " ('내', 3),\n",
              " ('모든', 2),\n",
              " ('문제들이', 2),\n",
              " ('참', 1),\n",
              " ('멀리', 1),\n",
              " ('있는', 2),\n",
              " ('것', 1),\n",
              " ('같았는데', 1),\n",
              " ('Now', 1),\n",
              " ('it', 1),\n",
              " ('looks', 1),\n",
              " ('as', 1),\n",
              " ('though', 1),\n",
              " (\"they're\", 1),\n",
              " ('here', 1),\n",
              " ('stay', 1),\n",
              " ('이제는', 2),\n",
              " ('그', 1),\n",
              " ('여기에', 1),\n",
              " ('것처럼', 1),\n",
              " ('보여', 1),\n",
              " ('Oh,', 1),\n",
              " ('I', 2),\n",
              " ('believe', 1),\n",
              " ('in', 1),\n",
              " ('yesterday', 2),\n",
              " ('오,', 1),\n",
              " ('어제가', 1),\n",
              " ('좋았는데', 1),\n",
              " ('Suddenly', 1),\n",
              " ('갑자기', 2),\n",
              " ('그-림-자-가', 2),\n",
              " ('2021', 2),\n",
              " (\"I'm\", 1),\n",
              " ('not', 1),\n",
              " ('half', 1),\n",
              " ('the', 1),\n",
              " ('man', 1),\n",
              " ('used', 1),\n",
              " ('be', 1),\n",
              " ('난', 1),\n",
              " ('예전', 1),\n",
              " ('모습의', 1),\n",
              " ('반도', 1),\n",
              " ('못한', 1),\n",
              " ('사람이', 1),\n",
              " ('되어버렸어', 1),\n",
              " (\"There's\", 1),\n",
              " ('a', 1),\n",
              " ('shadow', 1),\n",
              " ('hanging', 1),\n",
              " ('over', 1),\n",
              " ('me', 1),\n",
              " ('위에', 1),\n",
              " ('그림자가', 1),\n",
              " ('드리워져', 1),\n",
              " ('있네', 1),\n",
              " ('Oh!,', 1),\n",
              " ('came', 1),\n",
              " ('suddenly', 1),\n",
              " ('오!,', 1),\n",
              " ('너무', 1),\n",
              " ('와버렸어..', 1)]"
            ]
          },
          "metadata": {},
          "execution_count": 9
        }
      ]
    },
    {
      "cell_type": "code",
      "source": [
        "remove_exclamation = lambda x: x.replace('!', '')\n",
        "\n",
        "wc = yRdd_1.flatMap(lambda x: x)\\\n",
        "    .map(lambda x: remove_exclamation(x))\\\n",
        "    .flatMap(lambda x: x.split())\\\n",
        "    .map(lambda x: x.replace(',',' ').replace('.',' ').replace('-','').lower())\\\n",
        "    .map(lambda x: x.lower().rstrip().lstrip().rstrip(',').rstrip('.'))\\\n",
        "    .filter(lambda x: len(x)>1)\\\n",
        "    .filter(lambda x: not x.isdigit())\\\n",
        "    .map(lambda x: (x, 1))\\\n",
        "    .reduceByKey(lambda x,y:x+y)\\\n",
        "    .map(lambda x:(x[1],x[0]))\\\n",
        "    .sortByKey(False)\\\n",
        "    .filter(lambda x:x[0]>1)\\\n",
        "    .collect()\n"
      ],
      "metadata": {
        "id": "uwLH5FwGcXUJ"
      },
      "execution_count": 31,
      "outputs": []
    },
    {
      "cell_type": "code",
      "source": [
        "wc"
      ],
      "metadata": {
        "colab": {
          "base_uri": "https://localhost:8080/"
        },
        "id": "ET6B9JILcY55",
        "outputId": "9fcf40c1-d150-4098-f223-da8845ca65ce"
      },
      "execution_count": 32,
      "outputs": [
        {
          "output_type": "execute_result",
          "data": {
            "text/plain": [
              "[(3, 'yesterday'),\n",
              " (3, 'to'),\n",
              " (3, '그림자가'),\n",
              " (2, '모든'),\n",
              " (2, '문제들이'),\n",
              " (2, '있는'),\n",
              " (2, '이제는'),\n",
              " (2, 'oh'),\n",
              " (2, '오오'),\n",
              " (2, 'suddenly'),\n",
              " (2, '갑자기')]"
            ]
          },
          "metadata": {},
          "execution_count": 32
        }
      ]
    },
    {
      "cell_type": "code",
      "source": [],
      "metadata": {
        "id": "2Mu-aX5tfavx"
      },
      "execution_count": null,
      "outputs": []
    }
  ]
}