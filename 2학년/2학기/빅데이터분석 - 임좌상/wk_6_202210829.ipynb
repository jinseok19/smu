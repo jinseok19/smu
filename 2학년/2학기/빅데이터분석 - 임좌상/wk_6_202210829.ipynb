{
  "nbformat": 4,
  "nbformat_minor": 0,
  "metadata": {
    "colab": {
      "provenance": []
    },
    "kernelspec": {
      "name": "python3",
      "display_name": "Python 3"
    },
    "language_info": {
      "name": "python"
    }
  },
  "cells": [
    {
      "cell_type": "code",
      "source": [
        "!pip install pyspark"
      ],
      "metadata": {
        "colab": {
          "base_uri": "https://localhost:8080/"
        },
        "id": "Ae2u9V0pR8X_",
        "outputId": "8f97ed03-bc5c-4fa9-ddfb-83b5315ffa05"
      },
      "execution_count": 1,
      "outputs": [
        {
          "output_type": "stream",
          "name": "stdout",
          "text": [
            "Collecting pyspark\n",
            "  Downloading pyspark-3.5.0.tar.gz (316.9 MB)\n",
            "\u001b[2K     \u001b[90m━━━━━━━━━━━━━━━━━━━━━━━━━━━━━━━━━━━━━━━━\u001b[0m \u001b[32m316.9/316.9 MB\u001b[0m \u001b[31m4.4 MB/s\u001b[0m eta \u001b[36m0:00:00\u001b[0m\n",
            "\u001b[?25h  Preparing metadata (setup.py) ... \u001b[?25l\u001b[?25hdone\n",
            "Requirement already satisfied: py4j==0.10.9.7 in /usr/local/lib/python3.10/dist-packages (from pyspark) (0.10.9.7)\n",
            "Building wheels for collected packages: pyspark\n",
            "  Building wheel for pyspark (setup.py) ... \u001b[?25l\u001b[?25hdone\n",
            "  Created wheel for pyspark: filename=pyspark-3.5.0-py2.py3-none-any.whl size=317425344 sha256=fe52ab3215781566d8c862d9dc95bf09f98eb536088fa91f216ab88593749ce7\n",
            "  Stored in directory: /root/.cache/pip/wheels/41/4e/10/c2cf2467f71c678cfc8a6b9ac9241e5e44a01940da8fbb17fc\n",
            "Successfully built pyspark\n",
            "Installing collected packages: pyspark\n",
            "Successfully installed pyspark-3.5.0\n"
          ]
        }
      ]
    },
    {
      "cell_type": "code",
      "source": [
        "import os, sys\n",
        "import pyspark\n",
        "\n",
        "#os.environ[\"PYSPARK_PYTHON\"]=sys.executable          #or \"/usr/bin/python3\" for linux\n",
        "#os.environ[\"PYSPARK_DRIVER_PYTHON\"]=sys.executable   #or \"/usr/bin/python3\" for linux\n",
        "#os.environ['HADOOP_HOME']=os.getcwd()\n",
        "#os.environ[\"PATH\"] += os.path.join(os.environ['HADOOP_HOME'], 'bin')\n",
        "\n",
        "myConf=pyspark.SparkConf() #여기에 필요한 설정을 정의한다\n",
        "#myConf=pyspark.SparkConf().set(\"spark.driver.bindAddress\", \"127.0.0.1\")\n",
        "#myConf=pyspark.SparkConf().set(\"spark.jars.packages\", \"org.mongodb.spark:mongo-spark-connector_2.13:10.1.1\")\n",
        "spark = pyspark.sql.SparkSession\\\n",
        "    .builder\\\n",
        "    .master(\"local\")\\\n",
        "    .appName(\"myApp\")\\\n",
        "    .config(conf=myConf)\\\n",
        "    .getOrCreate()"
      ],
      "metadata": {
        "id": "BeDBeXLeStlo"
      },
      "execution_count": 2,
      "outputs": []
    },
    {
      "cell_type": "code",
      "execution_count": 23,
      "metadata": {
        "id": "MWMHbUhkRjfM"
      },
      "outputs": [],
      "source": [
        "popRdd = spark.sparkContext\\\n",
        "    .textFile(os.path.join(\"/content/drive/MyDrive/경기도 의정부시_인구현황_20230831.csv\"), use_unicode=True)"
      ]
    },
    {
      "cell_type": "code",
      "source": [
        "header = popRdd.first()\n",
        "popRdd = popRdd.filter(lambda row: row != header)"
      ],
      "metadata": {
        "id": "pMZtcdLKYC7G"
      },
      "execution_count": 24,
      "outputs": []
    },
    {
      "cell_type": "code",
      "source": [
        "popRdd.map(lambda x:x.split(\",\"))\\\n",
        "    .map(lambda x:int(x[1]) if x[1]!='' else 0)\\\n",
        "    .collect()"
      ],
      "metadata": {
        "colab": {
          "base_uri": "https://localhost:8080/"
        },
        "id": "0Za3wYD3Sny9",
        "outputId": "4d20a62c-32c9-4aeb-9544-ae7bf1136ac3"
      },
      "execution_count": 28,
      "outputs": [
        {
          "output_type": "execute_result",
          "data": {
            "text/plain": [
              "[37557,\n",
              " 29729,\n",
              " 34658,\n",
              " 33400,\n",
              " 19197,\n",
              " 39848,\n",
              " 45593,\n",
              " 56595,\n",
              " 32054,\n",
              " 45618,\n",
              " 26064,\n",
              " 24476,\n",
              " 19543,\n",
              " 20446]"
            ]
          },
          "metadata": {},
          "execution_count": 28
        }
      ]
    },
    {
      "cell_type": "code",
      "source": [
        "popRdd.map(lambda x:x.split(\",\"))\\\n",
        "    .map(lambda x:int(x[1]) if x[1]!='' else 0)\\\n",
        "    .reduce(lambda x,y:x+y)"
      ],
      "metadata": {
        "colab": {
          "base_uri": "https://localhost:8080/"
        },
        "id": "20hfQzLcUTRl",
        "outputId": "da546839-4bc8-478c-8325-4b4ad7b03414"
      },
      "execution_count": 31,
      "outputs": [
        {
          "output_type": "execute_result",
          "data": {
            "text/plain": [
              "464778"
            ]
          },
          "metadata": {},
          "execution_count": 31
        }
      ]
    },
    {
      "cell_type": "code",
      "source": [],
      "metadata": {
        "id": "KPtNrwjDW90I"
      },
      "execution_count": null,
      "outputs": []
    }
  ]
}