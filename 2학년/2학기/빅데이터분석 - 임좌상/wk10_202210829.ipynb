{
  "nbformat": 4,
  "nbformat_minor": 0,
  "metadata": {
    "colab": {
      "provenance": []
    },
    "kernelspec": {
      "name": "python3",
      "display_name": "Python 3"
    },
    "language_info": {
      "name": "python"
    }
  },
  "cells": [
    {
      "cell_type": "markdown",
      "source": [
        "#문제1\n",
        "\n",
        " DF(리스트에서)\n",
        "일련번호, 이름, 나이(월), 몸무게로 구성된 데이터가 있다고 하자.\n",
        "\n",
        "my = ['1 바둑이 11 7.5', '2 갑돌이 22 3.5','3 갑순이 33 5.0']\n",
        "\n",
        "- 열1: 정수\n",
        "\n",
        "- 열2: 문자열\n",
        "\n",
        "- 열3: 정수\n",
        "\n",
        "- 열4: 소수\n",
        "\n",
        "\n",
        "\n",
        "위 my 데이터를 수정하지 말고 그로부터 데이터프레임을 만들고, 다음 (1), (2)를 답하시오.\n",
        "\n",
        "(1) 데이터프레임의 스키마를 출력\n",
        "\n",
        " |-- id: integer (nullable = true)\n",
        "\n",
        " |-- name: string (nullable = true)\n",
        "\n",
        " |-- month: integer (nullable = true)\n",
        "\n",
        " |-- weight: float (nullable = true)\n",
        "\n",
        "\n",
        "\n",
        "(2) 데이터프레임의 모든 내용을 출력\n",
        "\n",
        "+---+------+-----+------+\n",
        "\n",
        "| id|  name|month|weight|\n",
        "\n",
        "+---+------+-----+------+\n",
        "\n",
        "|  1|바둑이|   11|   7.5|\n",
        "\n",
        "|  2|갑돌이|   22|   3.5|\n",
        "\n",
        "|  3|갑순이|   33|   5.0|\n",
        "\n",
        "+---+------+-----+------+\n",
        "\n"
      ],
      "metadata": {
        "id": "-dBLrjcnrLqf"
      }
    },
    {
      "cell_type": "code",
      "execution_count": 1,
      "metadata": {
        "colab": {
          "base_uri": "https://localhost:8080/"
        },
        "id": "jKFSuVBXq5vV",
        "outputId": "c9a29e87-e059-47c5-89cb-c19470f6b32f"
      },
      "outputs": [
        {
          "output_type": "stream",
          "name": "stdout",
          "text": [
            "Collecting pyspark\n",
            "  Downloading pyspark-3.5.0.tar.gz (316.9 MB)\n",
            "\u001b[2K     \u001b[90m━━━━━━━━━━━━━━━━━━━━━━━━━━━━━━━━━━━━━━━━\u001b[0m \u001b[32m316.9/316.9 MB\u001b[0m \u001b[31m4.4 MB/s\u001b[0m eta \u001b[36m0:00:00\u001b[0m\n",
            "\u001b[?25h  Preparing metadata (setup.py) ... \u001b[?25l\u001b[?25hdone\n",
            "Requirement already satisfied: py4j==0.10.9.7 in /usr/local/lib/python3.10/dist-packages (from pyspark) (0.10.9.7)\n",
            "Building wheels for collected packages: pyspark\n",
            "  Building wheel for pyspark (setup.py) ... \u001b[?25l\u001b[?25hdone\n",
            "  Created wheel for pyspark: filename=pyspark-3.5.0-py2.py3-none-any.whl size=317425344 sha256=1b56458ea4fe4d0e086fd1050ff95a8b9481c370268ac7a47c6b2fc7706270ce\n",
            "  Stored in directory: /root/.cache/pip/wheels/41/4e/10/c2cf2467f71c678cfc8a6b9ac9241e5e44a01940da8fbb17fc\n",
            "Successfully built pyspark\n",
            "Installing collected packages: pyspark\n",
            "Successfully installed pyspark-3.5.0\n"
          ]
        }
      ],
      "source": [
        "!pip install pyspark"
      ]
    },
    {
      "cell_type": "code",
      "source": [
        "import pyspark\n",
        "myConf=pyspark.SparkConf()\n",
        "spark = pyspark.sql.SparkSession\\\n",
        "    .builder\\\n",
        "    .master(\"local\")\\\n",
        "    .appName(\"myApp\")\\\n",
        "    .config(conf=myConf)\\\n",
        "    .getOrCreate()"
      ],
      "metadata": {
        "id": "wxJujUqnrdAL"
      },
      "execution_count": 2,
      "outputs": []
    },
    {
      "cell_type": "code",
      "source": [
        "my = ['1 바둑이 11 7.5', '2 갑돌이 22 3.5','3 갑순이 33 5.0']"
      ],
      "metadata": {
        "id": "9CwEO_40rtJr"
      },
      "execution_count": 3,
      "outputs": []
    },
    {
      "cell_type": "code",
      "source": [
        "from pyspark.sql.types import *\n",
        "\n",
        "schema = StructType([\n",
        "    StructField(\"id\", IntegerType(), True),\n",
        "    StructField(\"name\", StringType(), True),\n",
        "    StructField(\"month\", IntegerType(), True),\n",
        "    StructField(\"weight\", FloatType(), True)\n",
        "])"
      ],
      "metadata": {
        "id": "7qD7ycVEryuF"
      },
      "execution_count": 8,
      "outputs": []
    },
    {
      "cell_type": "code",
      "source": [
        "myDf=spark.createDataFrame(map(lambda line: (int(line.split()[0]),\n",
        "                                             str(line.split()[1]),\n",
        "                                             int(line.split()[2]),\n",
        "                                             float(line.split()[3])), my),schema)\n",
        "myDf"
      ],
      "metadata": {
        "colab": {
          "base_uri": "https://localhost:8080/"
        },
        "id": "V0Rfo_COsG_T",
        "outputId": "1c777b9c-7713-4624-f584-98c810f70ce3"
      },
      "execution_count": 9,
      "outputs": [
        {
          "output_type": "execute_result",
          "data": {
            "text/plain": [
              "DataFrame[id: int, name: string, month: int, weight: float]"
            ]
          },
          "metadata": {},
          "execution_count": 9
        }
      ]
    },
    {
      "cell_type": "code",
      "source": [
        "myDf.printSchema()"
      ],
      "metadata": {
        "colab": {
          "base_uri": "https://localhost:8080/"
        },
        "id": "M3NpfZfgs8jU",
        "outputId": "0d4b1a5f-980f-499a-fb3f-3237d651606a"
      },
      "execution_count": 10,
      "outputs": [
        {
          "output_type": "stream",
          "name": "stdout",
          "text": [
            "root\n",
            " |-- id: integer (nullable = true)\n",
            " |-- name: string (nullable = true)\n",
            " |-- month: integer (nullable = true)\n",
            " |-- weight: float (nullable = true)\n",
            "\n"
          ]
        }
      ]
    },
    {
      "cell_type": "code",
      "source": [
        "myDf.show()"
      ],
      "metadata": {
        "colab": {
          "base_uri": "https://localhost:8080/"
        },
        "id": "v4WY-T2Hthg1",
        "outputId": "908d0ea2-327b-47cd-e1b0-faf1188f1f85"
      },
      "execution_count": 11,
      "outputs": [
        {
          "output_type": "stream",
          "name": "stdout",
          "text": [
            "+---+------+-----+------+\n",
            "| id|  name|month|weight|\n",
            "+---+------+-----+------+\n",
            "|  1|바둑이|   11|   7.5|\n",
            "|  2|갑돌이|   22|   3.5|\n",
            "|  3|갑순이|   33|   5.0|\n",
            "+---+------+-----+------+\n",
            "\n"
          ]
        }
      ]
    },
    {
      "cell_type": "code",
      "source": [],
      "metadata": {
        "id": "R4L8c0QituwQ"
      },
      "execution_count": null,
      "outputs": []
    }
  ]
}