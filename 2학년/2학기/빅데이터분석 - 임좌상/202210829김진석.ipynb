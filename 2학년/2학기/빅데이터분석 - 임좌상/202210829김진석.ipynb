{
  "nbformat": 4,
  "nbformat_minor": 0,
  "metadata": {
    "colab": {
      "provenance": []
    },
    "kernelspec": {
      "name": "python3",
      "display_name": "Python 3"
    },
    "language_info": {
      "name": "python"
    }
  },
  "cells": [
    {
      "cell_type": "code",
      "execution_count": 1,
      "metadata": {
        "colab": {
          "base_uri": "https://localhost:8080/"
        },
        "id": "OXLn4U6m-ouZ",
        "outputId": "58e4a50a-036a-49c2-efd8-666e1686a5ec"
      },
      "outputs": [
        {
          "output_type": "stream",
          "name": "stdout",
          "text": [
            "Reading package lists... Done\n",
            "Building dependency tree... Done\n",
            "Reading state information... Done\n",
            "The following NEW packages will be installed:\n",
            "  fonts-nanum\n",
            "0 upgraded, 1 newly installed, 0 to remove and 24 not upgraded.\n",
            "Need to get 10.3 MB of archives.\n",
            "After this operation, 34.1 MB of additional disk space will be used.\n",
            "Get:1 http://archive.ubuntu.com/ubuntu jammy/universe amd64 fonts-nanum all 20200506-1 [10.3 MB]\n",
            "Fetched 10.3 MB in 1s (17.8 MB/s)\n",
            "debconf: unable to initialize frontend: Dialog\n",
            "debconf: (No usable dialog-like program is installed, so the dialog based frontend cannot be used. at /usr/share/perl5/Debconf/FrontEnd/Dialog.pm line 78, <> line 1.)\n",
            "debconf: falling back to frontend: Readline\n",
            "debconf: unable to initialize frontend: Readline\n",
            "debconf: (This frontend requires a controlling tty.)\n",
            "debconf: falling back to frontend: Teletype\n",
            "dpkg-preconfigure: unable to re-open stdin: \n",
            "Selecting previously unselected package fonts-nanum.\n",
            "(Reading database ... 121658 files and directories currently installed.)\n",
            "Preparing to unpack .../fonts-nanum_20200506-1_all.deb ...\n",
            "Unpacking fonts-nanum (20200506-1) ...\n",
            "Setting up fonts-nanum (20200506-1) ...\n",
            "Processing triggers for fontconfig (2.13.1-4.2ubuntu5) ...\n",
            "/usr/share/fonts: caching, new cache contents: 0 fonts, 1 dirs\n",
            "/usr/share/fonts/truetype: caching, new cache contents: 0 fonts, 3 dirs\n",
            "/usr/share/fonts/truetype/humor-sans: caching, new cache contents: 1 fonts, 0 dirs\n",
            "/usr/share/fonts/truetype/liberation: caching, new cache contents: 16 fonts, 0 dirs\n",
            "/usr/share/fonts/truetype/nanum: caching, new cache contents: 12 fonts, 0 dirs\n",
            "/usr/local/share/fonts: caching, new cache contents: 0 fonts, 0 dirs\n",
            "/root/.local/share/fonts: skipping, no such directory\n",
            "/root/.fonts: skipping, no such directory\n",
            "/usr/share/fonts/truetype: skipping, looped directory detected\n",
            "/usr/share/fonts/truetype/humor-sans: skipping, looped directory detected\n",
            "/usr/share/fonts/truetype/liberation: skipping, looped directory detected\n",
            "/usr/share/fonts/truetype/nanum: skipping, looped directory detected\n",
            "/var/cache/fontconfig: cleaning cache directory\n",
            "/root/.cache/fontconfig: not cleaning non-existent cache directory\n",
            "/root/.fontconfig: not cleaning non-existent cache directory\n",
            "fc-cache: succeeded\n"
          ]
        }
      ],
      "source": [
        "!sudo apt-get install -y fonts-nanum\n",
        "!sudo fc-cache -fv\n",
        "!rm ~/.cache/matplotlib -rf"
      ]
    },
    {
      "cell_type": "code",
      "source": [
        "!pip install pyspark"
      ],
      "metadata": {
        "colab": {
          "base_uri": "https://localhost:8080/"
        },
        "id": "fFcITPaXDzkf",
        "outputId": "564d4e2a-3f7c-44a9-8558-55d50d5e9869"
      },
      "execution_count": 1,
      "outputs": [
        {
          "output_type": "stream",
          "name": "stdout",
          "text": [
            "Collecting pyspark\n",
            "  Downloading pyspark-3.5.0.tar.gz (316.9 MB)\n",
            "\u001b[2K     \u001b[90m━━━━━━━━━━━━━━━━━━━━━━━━━━━━━━━━━━━━━━━━\u001b[0m \u001b[32m316.9/316.9 MB\u001b[0m \u001b[31m3.7 MB/s\u001b[0m eta \u001b[36m0:00:00\u001b[0m\n",
            "\u001b[?25h  Preparing metadata (setup.py) ... \u001b[?25l\u001b[?25hdone\n",
            "Requirement already satisfied: py4j==0.10.9.7 in /usr/local/lib/python3.10/dist-packages (from pyspark) (0.10.9.7)\n",
            "Building wheels for collected packages: pyspark\n",
            "  Building wheel for pyspark (setup.py) ... \u001b[?25l\u001b[?25hdone\n",
            "  Created wheel for pyspark: filename=pyspark-3.5.0-py2.py3-none-any.whl size=317425345 sha256=1d98383d39a25f0b5f1e3a2fa4e63d04a4212a808eb58606f6707614fc6dcc0e\n",
            "  Stored in directory: /root/.cache/pip/wheels/41/4e/10/c2cf2467f71c678cfc8a6b9ac9241e5e44a01940da8fbb17fc\n",
            "Successfully built pyspark\n",
            "Installing collected packages: pyspark\n",
            "Successfully installed pyspark-3.5.0\n"
          ]
        }
      ]
    },
    {
      "cell_type": "code",
      "source": [
        "import pandas as pd\n",
        "import pyspark\n",
        "import os\n",
        "from pyspark.sql.functions import *\n",
        "from pyspark.ml.feature import StringIndexer\n",
        "from pyspark.ml.feature import VectorAssembler\n",
        "from pyspark.ml.classification import LinearSVC\n",
        "%matplotlib inline\n",
        "\n",
        "from matplotlib import pyplot as plt\n",
        "plt.rc('font',family='NanumBarunGothic')\n",
        "myConf=pyspark.SparkConf()\n",
        "spark = pyspark.sql.SparkSession\\\n",
        "    .builder\\\n",
        "    .master(\"local\")\\\n",
        "    .appName(\"myApp\")\\\n",
        "    .config(conf=myConf)\\\n",
        "    .getOrCreate()"
      ],
      "metadata": {
        "id": "drXlLKkbDsxi"
      },
      "execution_count": 2,
      "outputs": []
    },
    {
      "cell_type": "markdown",
      "source": [
        "#1"
      ],
      "metadata": {
        "id": "o2XgYHSEAqDI"
      }
    },
    {
      "cell_type": "code",
      "source": [
        "\n",
        "import os\n",
        "df_spark = spark\\\n",
        "        .read\\\n",
        "        .format('csv')\\\n",
        "        .options(inferschema='true', delimiter=',', encoding=\"cp949\")\\\n",
        "        .load(os.path.join('/content/drive/MyDrive/kddcup.data_10_percent_corrected'))"
      ],
      "metadata": {
        "id": "sSelPhaaA8hQ"
      },
      "execution_count": 6,
      "outputs": []
    },
    {
      "cell_type": "code",
      "source": [
        "import os\n",
        "\n",
        "_fname = os.path.join(os.getcwd(),'/content/drive/MyDrive/kddcup.data_10_percent.gz')"
      ],
      "metadata": {
        "id": "R67MuAZWLz4N"
      },
      "execution_count": 11,
      "outputs": []
    },
    {
      "cell_type": "code",
      "source": [
        "_rdd = spark.sparkContext.textFile(_fname)"
      ],
      "metadata": {
        "id": "icbWzbdjL6nz"
      },
      "execution_count": 12,
      "outputs": []
    },
    {
      "cell_type": "code",
      "source": [
        "df_spark.printSchema()"
      ],
      "metadata": {
        "colab": {
          "base_uri": "https://localhost:8080/"
        },
        "id": "rr6BwzTzKuiE",
        "outputId": "0ce3f82a-80b4-4f74-a7aa-0ecc2d4e8a91"
      },
      "execution_count": 8,
      "outputs": [
        {
          "output_type": "stream",
          "name": "stdout",
          "text": [
            "root\n",
            " |-- _c0: integer (nullable = true)\n",
            " |-- _c1: string (nullable = true)\n",
            " |-- _c2: string (nullable = true)\n",
            " |-- _c3: string (nullable = true)\n",
            " |-- _c4: integer (nullable = true)\n",
            " |-- _c5: integer (nullable = true)\n",
            " |-- _c6: integer (nullable = true)\n",
            " |-- _c7: integer (nullable = true)\n",
            " |-- _c8: integer (nullable = true)\n",
            " |-- _c9: integer (nullable = true)\n",
            " |-- _c10: integer (nullable = true)\n",
            " |-- _c11: integer (nullable = true)\n",
            " |-- _c12: integer (nullable = true)\n",
            " |-- _c13: integer (nullable = true)\n",
            " |-- _c14: integer (nullable = true)\n",
            " |-- _c15: integer (nullable = true)\n",
            " |-- _c16: integer (nullable = true)\n",
            " |-- _c17: integer (nullable = true)\n",
            " |-- _c18: integer (nullable = true)\n",
            " |-- _c19: integer (nullable = true)\n",
            " |-- _c20: integer (nullable = true)\n",
            " |-- _c21: integer (nullable = true)\n",
            " |-- _c22: integer (nullable = true)\n",
            " |-- _c23: integer (nullable = true)\n",
            " |-- _c24: double (nullable = true)\n",
            " |-- _c25: double (nullable = true)\n",
            " |-- _c26: double (nullable = true)\n",
            " |-- _c27: double (nullable = true)\n",
            " |-- _c28: double (nullable = true)\n",
            " |-- _c29: double (nullable = true)\n",
            " |-- _c30: double (nullable = true)\n",
            " |-- _c31: integer (nullable = true)\n",
            " |-- _c32: integer (nullable = true)\n",
            " |-- _c33: double (nullable = true)\n",
            " |-- _c34: double (nullable = true)\n",
            " |-- _c35: double (nullable = true)\n",
            " |-- _c36: double (nullable = true)\n",
            " |-- _c37: double (nullable = true)\n",
            " |-- _c38: double (nullable = true)\n",
            " |-- _c39: double (nullable = true)\n",
            " |-- _c40: double (nullable = true)\n",
            " |-- _c41: string (nullable = true)\n",
            "\n"
          ]
        }
      ]
    },
    {
      "cell_type": "markdown",
      "source": [],
      "metadata": {
        "id": "8fiS2PNfJc98"
      }
    },
    {
      "cell_type": "markdown",
      "source": [
        "#2"
      ],
      "metadata": {
        "id": "MjbFzCOWAqFO"
      }
    },
    {
      "cell_type": "code",
      "source": [
        "col_count=len(df_spark.columns)\n",
        "row_count = df_spark.count()\n",
        "print(\"컬럼 개수 : \",col_count,\"\\n행 개수 :\", row_count)"
      ],
      "metadata": {
        "colab": {
          "base_uri": "https://localhost:8080/"
        },
        "id": "fJogJHMTA89A",
        "outputId": "ebe352ac-b1c8-466d-de7a-c6c8310221b3"
      },
      "execution_count": 23,
      "outputs": [
        {
          "output_type": "stream",
          "name": "stdout",
          "text": [
            "컬럼 개수 :  42 \n",
            "행 개수 : 494021\n"
          ]
        }
      ]
    },
    {
      "cell_type": "markdown",
      "source": [
        "#3"
      ],
      "metadata": {
        "id": "2XNDKAmgAqHo"
      }
    },
    {
      "cell_type": "code",
      "source": [
        "df_spark = df_spark.withColumn('label', when(df_spark['_c41'] == 'normal.', 0).otherwise(1))\n",
        "\n",
        "# 결과 확인\n",
        "\n",
        "df_spark.select(df_spark['label']==1).show(10) # attack\n",
        "df_spark.select(df_spark['label']==0).show(10) # normal"
      ],
      "metadata": {
        "colab": {
          "base_uri": "https://localhost:8080/"
        },
        "id": "lD_9ZC3wA9bI",
        "outputId": "ddf49508-2d0d-4956-85c2-afd4064d2b83"
      },
      "execution_count": 30,
      "outputs": [
        {
          "output_type": "stream",
          "name": "stdout",
          "text": [
            "+-----------+\n",
            "|(label = 1)|\n",
            "+-----------+\n",
            "|      false|\n",
            "|      false|\n",
            "|      false|\n",
            "|      false|\n",
            "|      false|\n",
            "|      false|\n",
            "|      false|\n",
            "|      false|\n",
            "|      false|\n",
            "|      false|\n",
            "+-----------+\n",
            "only showing top 10 rows\n",
            "\n",
            "+-----------+\n",
            "|(label = 0)|\n",
            "+-----------+\n",
            "|       true|\n",
            "|       true|\n",
            "|       true|\n",
            "|       true|\n",
            "|       true|\n",
            "|       true|\n",
            "|       true|\n",
            "|       true|\n",
            "|       true|\n",
            "|       true|\n",
            "+-----------+\n",
            "only showing top 10 rows\n",
            "\n"
          ]
        }
      ]
    },
    {
      "cell_type": "markdown",
      "source": [
        "#4"
      ],
      "metadata": {
        "id": "Ip8HlVQaAqKI"
      }
    },
    {
      "cell_type": "code",
      "source": [
        "df_spark = df_spark.withColumn('attackB', when(df_spark['label'] == 0, 'noraml').otherwise('attack'))"
      ],
      "metadata": {
        "id": "Iu7TtGYxA-PQ"
      },
      "execution_count": null,
      "outputs": []
    },
    {
      "cell_type": "code",
      "source": [
        "\n",
        "df_spark = df_spark.withColumn('__c1', when(df_spark['_c1'] == 'tcp', 'tcp')\\\n",
        "                                .when(df_spark['_c1'] == 'udp', 'udp')\\\n",
        "                                .when(df_spark['_c1'] == 'icmp', None))\n",
        "\n",
        "dd=df_spark.drop(df_spark['_c1']=='icmp')"
      ],
      "metadata": {
        "id": "y8pRkbOUSLPl"
      },
      "execution_count": 53,
      "outputs": []
    },
    {
      "cell_type": "code",
      "source": [
        "dd.groupBy('_c1').pivot('attackB').avg('_c5').show()"
      ],
      "metadata": {
        "colab": {
          "base_uri": "https://localhost:8080/"
        },
        "id": "kNt38PEjQknV",
        "outputId": "cc763275-07e2-40e5-dbde-11e6d847e19e"
      },
      "execution_count": 55,
      "outputs": [
        {
          "output_type": "stream",
          "name": "stdout",
          "text": [
            "+----+-------------------+-----------------+\n",
            "| _c1|             attack|           noraml|\n",
            "+----+-------------------+-----------------+\n",
            "| tcp|  881.4052467064599| 4263.96793511515|\n",
            "| udp|0.22939677145284623|89.89471763049487|\n",
            "|icmp|                0.0|              0.0|\n",
            "+----+-------------------+-----------------+\n",
            "\n"
          ]
        }
      ]
    },
    {
      "cell_type": "markdown",
      "source": [
        "#5"
      ],
      "metadata": {
        "id": "h4xPHf8AAqMu"
      }
    },
    {
      "cell_type": "code",
      "source": [
        "df_spark.groupBy('_c1').pivot('attackB').count().show()"
      ],
      "metadata": {
        "colab": {
          "base_uri": "https://localhost:8080/"
        },
        "id": "a4XwANqfA-2o",
        "outputId": "ec83eebe-f14b-42e2-f5ca-2acaae9e3f8f"
      },
      "execution_count": 56,
      "outputs": [
        {
          "output_type": "stream",
          "name": "stdout",
          "text": [
            "+----+------+------+\n",
            "| _c1|attack|noraml|\n",
            "+----+------+------+\n",
            "| tcp|113252| 76813|\n",
            "| udp|  1177| 19177|\n",
            "|icmp|282314|  1288|\n",
            "+----+------+------+\n",
            "\n"
          ]
        }
      ]
    },
    {
      "cell_type": "markdown",
      "source": [
        "#6"
      ],
      "metadata": {
        "id": "qZRc02zpAqPx"
      }
    },
    {
      "cell_type": "code",
      "source": [
        "\n",
        "X=df_spark.select('attackB')\n",
        "Y=df_spark.select('_c1').rdd.flatMap(lambda x:x).count()\n",
        "\n",
        "plt.bar(X,Y)"
      ],
      "metadata": {
        "colab": {
          "base_uri": "https://localhost:8080/",
          "height": 796
        },
        "id": "ecqtZm-QA_uX",
        "outputId": "8ff8fd7f-fbe5-45a0-c5d6-90ba45cdf5ca"
      },
      "execution_count": 81,
      "outputs": [
        {
          "output_type": "error",
          "ename": "TypeError",
          "evalue": "ignored",
          "traceback": [
            "\u001b[0;31m---------------------------------------------------------------------------\u001b[0m",
            "\u001b[0;31mTypeError\u001b[0m                                 Traceback (most recent call last)",
            "\u001b[0;32m<ipython-input-81-2e5e0e74e436>\u001b[0m in \u001b[0;36m<cell line: 4>\u001b[0;34m()\u001b[0m\n\u001b[1;32m      2\u001b[0m \u001b[0mY\u001b[0m\u001b[0;34m=\u001b[0m\u001b[0mdf_spark\u001b[0m\u001b[0;34m.\u001b[0m\u001b[0mselect\u001b[0m\u001b[0;34m(\u001b[0m\u001b[0;34m'_c1'\u001b[0m\u001b[0;34m)\u001b[0m\u001b[0;34m.\u001b[0m\u001b[0mrdd\u001b[0m\u001b[0;34m.\u001b[0m\u001b[0mflatMap\u001b[0m\u001b[0;34m(\u001b[0m\u001b[0;32mlambda\u001b[0m \u001b[0mx\u001b[0m\u001b[0;34m:\u001b[0m\u001b[0mx\u001b[0m\u001b[0;34m)\u001b[0m\u001b[0;34m.\u001b[0m\u001b[0mcount\u001b[0m\u001b[0;34m(\u001b[0m\u001b[0;34m)\u001b[0m\u001b[0;34m\u001b[0m\u001b[0;34m\u001b[0m\u001b[0m\n\u001b[1;32m      3\u001b[0m \u001b[0;34m\u001b[0m\u001b[0m\n\u001b[0;32m----> 4\u001b[0;31m \u001b[0mplt\u001b[0m\u001b[0;34m.\u001b[0m\u001b[0mbar\u001b[0m\u001b[0;34m(\u001b[0m\u001b[0mX\u001b[0m\u001b[0;34m,\u001b[0m\u001b[0mY\u001b[0m\u001b[0;34m)\u001b[0m\u001b[0;34m\u001b[0m\u001b[0;34m\u001b[0m\u001b[0m\n\u001b[0m",
            "\u001b[0;32m/usr/local/lib/python3.10/dist-packages/matplotlib/pyplot.py\u001b[0m in \u001b[0;36mbar\u001b[0;34m(x, height, width, bottom, align, data, **kwargs)\u001b[0m\n\u001b[1;32m   2437\u001b[0m         \u001b[0mx\u001b[0m\u001b[0;34m,\u001b[0m \u001b[0mheight\u001b[0m\u001b[0;34m,\u001b[0m \u001b[0mwidth\u001b[0m\u001b[0;34m=\u001b[0m\u001b[0;36m0.8\u001b[0m\u001b[0;34m,\u001b[0m \u001b[0mbottom\u001b[0m\u001b[0;34m=\u001b[0m\u001b[0;32mNone\u001b[0m\u001b[0;34m,\u001b[0m \u001b[0;34m*\u001b[0m\u001b[0;34m,\u001b[0m \u001b[0malign\u001b[0m\u001b[0;34m=\u001b[0m\u001b[0;34m'center'\u001b[0m\u001b[0;34m,\u001b[0m\u001b[0;34m\u001b[0m\u001b[0;34m\u001b[0m\u001b[0m\n\u001b[1;32m   2438\u001b[0m         data=None, **kwargs):\n\u001b[0;32m-> 2439\u001b[0;31m     return gca().bar(\n\u001b[0m\u001b[1;32m   2440\u001b[0m         \u001b[0mx\u001b[0m\u001b[0;34m,\u001b[0m \u001b[0mheight\u001b[0m\u001b[0;34m,\u001b[0m \u001b[0mwidth\u001b[0m\u001b[0;34m=\u001b[0m\u001b[0mwidth\u001b[0m\u001b[0;34m,\u001b[0m \u001b[0mbottom\u001b[0m\u001b[0;34m=\u001b[0m\u001b[0mbottom\u001b[0m\u001b[0;34m,\u001b[0m \u001b[0malign\u001b[0m\u001b[0;34m=\u001b[0m\u001b[0malign\u001b[0m\u001b[0;34m,\u001b[0m\u001b[0;34m\u001b[0m\u001b[0;34m\u001b[0m\u001b[0m\n\u001b[1;32m   2441\u001b[0m         **({\"data\": data} if data is not None else {}), **kwargs)\n",
            "\u001b[0;32m/usr/local/lib/python3.10/dist-packages/matplotlib/__init__.py\u001b[0m in \u001b[0;36minner\u001b[0;34m(ax, data, *args, **kwargs)\u001b[0m\n\u001b[1;32m   1440\u001b[0m     \u001b[0;32mdef\u001b[0m \u001b[0minner\u001b[0m\u001b[0;34m(\u001b[0m\u001b[0max\u001b[0m\u001b[0;34m,\u001b[0m \u001b[0;34m*\u001b[0m\u001b[0margs\u001b[0m\u001b[0;34m,\u001b[0m \u001b[0mdata\u001b[0m\u001b[0;34m=\u001b[0m\u001b[0;32mNone\u001b[0m\u001b[0;34m,\u001b[0m \u001b[0;34m**\u001b[0m\u001b[0mkwargs\u001b[0m\u001b[0;34m)\u001b[0m\u001b[0;34m:\u001b[0m\u001b[0;34m\u001b[0m\u001b[0;34m\u001b[0m\u001b[0m\n\u001b[1;32m   1441\u001b[0m         \u001b[0;32mif\u001b[0m \u001b[0mdata\u001b[0m \u001b[0;32mis\u001b[0m \u001b[0;32mNone\u001b[0m\u001b[0;34m:\u001b[0m\u001b[0;34m\u001b[0m\u001b[0;34m\u001b[0m\u001b[0m\n\u001b[0;32m-> 1442\u001b[0;31m             \u001b[0;32mreturn\u001b[0m \u001b[0mfunc\u001b[0m\u001b[0;34m(\u001b[0m\u001b[0max\u001b[0m\u001b[0;34m,\u001b[0m \u001b[0;34m*\u001b[0m\u001b[0mmap\u001b[0m\u001b[0;34m(\u001b[0m\u001b[0msanitize_sequence\u001b[0m\u001b[0;34m,\u001b[0m \u001b[0margs\u001b[0m\u001b[0;34m)\u001b[0m\u001b[0;34m,\u001b[0m \u001b[0;34m**\u001b[0m\u001b[0mkwargs\u001b[0m\u001b[0;34m)\u001b[0m\u001b[0;34m\u001b[0m\u001b[0;34m\u001b[0m\u001b[0m\n\u001b[0m\u001b[1;32m   1443\u001b[0m \u001b[0;34m\u001b[0m\u001b[0m\n\u001b[1;32m   1444\u001b[0m         \u001b[0mbound\u001b[0m \u001b[0;34m=\u001b[0m \u001b[0mnew_sig\u001b[0m\u001b[0;34m.\u001b[0m\u001b[0mbind\u001b[0m\u001b[0;34m(\u001b[0m\u001b[0max\u001b[0m\u001b[0;34m,\u001b[0m \u001b[0;34m*\u001b[0m\u001b[0margs\u001b[0m\u001b[0;34m,\u001b[0m \u001b[0;34m**\u001b[0m\u001b[0mkwargs\u001b[0m\u001b[0;34m)\u001b[0m\u001b[0;34m\u001b[0m\u001b[0;34m\u001b[0m\u001b[0m\n",
            "\u001b[0;32m/usr/local/lib/python3.10/dist-packages/matplotlib/axes/_axes.py\u001b[0m in \u001b[0;36mbar\u001b[0;34m(self, x, height, width, bottom, align, **kwargs)\u001b[0m\n\u001b[1;32m   2390\u001b[0m \u001b[0;34m\u001b[0m\u001b[0m\n\u001b[1;32m   2391\u001b[0m         \u001b[0;32mif\u001b[0m \u001b[0morientation\u001b[0m \u001b[0;34m==\u001b[0m \u001b[0;34m'vertical'\u001b[0m\u001b[0;34m:\u001b[0m\u001b[0;34m\u001b[0m\u001b[0;34m\u001b[0m\u001b[0m\n\u001b[0;32m-> 2392\u001b[0;31m             self._process_unit_info(\n\u001b[0m\u001b[1;32m   2393\u001b[0m                 [(\"x\", x), (\"y\", height)], kwargs, convert=False)\n\u001b[1;32m   2394\u001b[0m             \u001b[0;32mif\u001b[0m \u001b[0mlog\u001b[0m\u001b[0;34m:\u001b[0m\u001b[0;34m\u001b[0m\u001b[0;34m\u001b[0m\u001b[0m\n",
            "\u001b[0;32m/usr/local/lib/python3.10/dist-packages/matplotlib/axes/_base.py\u001b[0m in \u001b[0;36m_process_unit_info\u001b[0;34m(self, datasets, kwargs, convert)\u001b[0m\n\u001b[1;32m   2547\u001b[0m             \u001b[0;31m# Update from data if axis is already set but no unit is set yet.\u001b[0m\u001b[0;34m\u001b[0m\u001b[0;34m\u001b[0m\u001b[0m\n\u001b[1;32m   2548\u001b[0m             \u001b[0;32mif\u001b[0m \u001b[0maxis\u001b[0m \u001b[0;32mis\u001b[0m \u001b[0;32mnot\u001b[0m \u001b[0;32mNone\u001b[0m \u001b[0;32mand\u001b[0m \u001b[0mdata\u001b[0m \u001b[0;32mis\u001b[0m \u001b[0;32mnot\u001b[0m \u001b[0;32mNone\u001b[0m \u001b[0;32mand\u001b[0m \u001b[0;32mnot\u001b[0m \u001b[0maxis\u001b[0m\u001b[0;34m.\u001b[0m\u001b[0mhave_units\u001b[0m\u001b[0;34m(\u001b[0m\u001b[0;34m)\u001b[0m\u001b[0;34m:\u001b[0m\u001b[0;34m\u001b[0m\u001b[0;34m\u001b[0m\u001b[0m\n\u001b[0;32m-> 2549\u001b[0;31m                 \u001b[0maxis\u001b[0m\u001b[0;34m.\u001b[0m\u001b[0mupdate_units\u001b[0m\u001b[0;34m(\u001b[0m\u001b[0mdata\u001b[0m\u001b[0;34m)\u001b[0m\u001b[0;34m\u001b[0m\u001b[0;34m\u001b[0m\u001b[0m\n\u001b[0m\u001b[1;32m   2550\u001b[0m         \u001b[0;32mfor\u001b[0m \u001b[0maxis_name\u001b[0m\u001b[0;34m,\u001b[0m \u001b[0maxis\u001b[0m \u001b[0;32min\u001b[0m \u001b[0maxis_map\u001b[0m\u001b[0;34m.\u001b[0m\u001b[0mitems\u001b[0m\u001b[0;34m(\u001b[0m\u001b[0;34m)\u001b[0m\u001b[0;34m:\u001b[0m\u001b[0;34m\u001b[0m\u001b[0;34m\u001b[0m\u001b[0m\n\u001b[1;32m   2551\u001b[0m             \u001b[0;31m# Return if no axis is set.\u001b[0m\u001b[0;34m\u001b[0m\u001b[0;34m\u001b[0m\u001b[0m\n",
            "\u001b[0;32m/usr/local/lib/python3.10/dist-packages/matplotlib/axis.py\u001b[0m in \u001b[0;36mupdate_units\u001b[0;34m(self, data)\u001b[0m\n\u001b[1;32m   1667\u001b[0m         \u001b[0;32mif\u001b[0m \u001b[0;34m*\u001b[0m\u001b[0mdata\u001b[0m\u001b[0;34m*\u001b[0m \u001b[0;32mis\u001b[0m \u001b[0mregistered\u001b[0m \u001b[0;32mfor\u001b[0m \u001b[0munit\u001b[0m \u001b[0mconversion\u001b[0m\u001b[0;34m.\u001b[0m\u001b[0;34m\u001b[0m\u001b[0;34m\u001b[0m\u001b[0m\n\u001b[1;32m   1668\u001b[0m         \"\"\"\n\u001b[0;32m-> 1669\u001b[0;31m         \u001b[0mconverter\u001b[0m \u001b[0;34m=\u001b[0m \u001b[0mmunits\u001b[0m\u001b[0;34m.\u001b[0m\u001b[0mregistry\u001b[0m\u001b[0;34m.\u001b[0m\u001b[0mget_converter\u001b[0m\u001b[0;34m(\u001b[0m\u001b[0mdata\u001b[0m\u001b[0;34m)\u001b[0m\u001b[0;34m\u001b[0m\u001b[0;34m\u001b[0m\u001b[0m\n\u001b[0m\u001b[1;32m   1670\u001b[0m         \u001b[0;32mif\u001b[0m \u001b[0mconverter\u001b[0m \u001b[0;32mis\u001b[0m \u001b[0;32mNone\u001b[0m\u001b[0;34m:\u001b[0m\u001b[0;34m\u001b[0m\u001b[0;34m\u001b[0m\u001b[0m\n\u001b[1;32m   1671\u001b[0m             \u001b[0;32mreturn\u001b[0m \u001b[0;32mFalse\u001b[0m\u001b[0;34m\u001b[0m\u001b[0;34m\u001b[0m\u001b[0m\n",
            "\u001b[0;32m/usr/local/lib/python3.10/dist-packages/matplotlib/units.py\u001b[0m in \u001b[0;36mget_converter\u001b[0;34m(self, x)\u001b[0m\n\u001b[1;32m    188\u001b[0m             \u001b[0;31m# which indexing returns instances of the same iterable class.\u001b[0m\u001b[0;34m\u001b[0m\u001b[0;34m\u001b[0m\u001b[0m\n\u001b[1;32m    189\u001b[0m             \u001b[0;32mif\u001b[0m \u001b[0mtype\u001b[0m\u001b[0;34m(\u001b[0m\u001b[0mfirst\u001b[0m\u001b[0;34m)\u001b[0m \u001b[0;32mis\u001b[0m \u001b[0;32mnot\u001b[0m \u001b[0mtype\u001b[0m\u001b[0;34m(\u001b[0m\u001b[0mx\u001b[0m\u001b[0;34m)\u001b[0m\u001b[0;34m:\u001b[0m\u001b[0;34m\u001b[0m\u001b[0;34m\u001b[0m\u001b[0m\n\u001b[0;32m--> 190\u001b[0;31m                 \u001b[0;32mreturn\u001b[0m \u001b[0mself\u001b[0m\u001b[0;34m.\u001b[0m\u001b[0mget_converter\u001b[0m\u001b[0;34m(\u001b[0m\u001b[0mfirst\u001b[0m\u001b[0;34m)\u001b[0m\u001b[0;34m\u001b[0m\u001b[0;34m\u001b[0m\u001b[0m\n\u001b[0m\u001b[1;32m    191\u001b[0m         \u001b[0;32mreturn\u001b[0m \u001b[0;32mNone\u001b[0m\u001b[0;34m\u001b[0m\u001b[0;34m\u001b[0m\u001b[0m\n\u001b[1;32m    192\u001b[0m \u001b[0;34m\u001b[0m\u001b[0m\n",
            "\u001b[0;32m/usr/local/lib/python3.10/dist-packages/matplotlib/units.py\u001b[0m in \u001b[0;36mget_converter\u001b[0;34m(self, x)\u001b[0m\n\u001b[1;32m    165\u001b[0m         \u001b[0;34m\"\"\"Get the converter interface instance for *x*, or None.\"\"\"\u001b[0m\u001b[0;34m\u001b[0m\u001b[0;34m\u001b[0m\u001b[0m\n\u001b[1;32m    166\u001b[0m         \u001b[0;31m# Unpack in case of e.g. Pandas or xarray object\u001b[0m\u001b[0;34m\u001b[0m\u001b[0;34m\u001b[0m\u001b[0m\n\u001b[0;32m--> 167\u001b[0;31m         \u001b[0mx\u001b[0m \u001b[0;34m=\u001b[0m \u001b[0mcbook\u001b[0m\u001b[0;34m.\u001b[0m\u001b[0m_unpack_to_numpy\u001b[0m\u001b[0;34m(\u001b[0m\u001b[0mx\u001b[0m\u001b[0;34m)\u001b[0m\u001b[0;34m\u001b[0m\u001b[0;34m\u001b[0m\u001b[0m\n\u001b[0m\u001b[1;32m    168\u001b[0m \u001b[0;34m\u001b[0m\u001b[0m\n\u001b[1;32m    169\u001b[0m         \u001b[0;32mif\u001b[0m \u001b[0misinstance\u001b[0m\u001b[0;34m(\u001b[0m\u001b[0mx\u001b[0m\u001b[0;34m,\u001b[0m \u001b[0mnp\u001b[0m\u001b[0;34m.\u001b[0m\u001b[0mndarray\u001b[0m\u001b[0;34m)\u001b[0m\u001b[0;34m:\u001b[0m\u001b[0;34m\u001b[0m\u001b[0;34m\u001b[0m\u001b[0m\n",
            "\u001b[0;32m/usr/local/lib/python3.10/dist-packages/matplotlib/cbook/__init__.py\u001b[0m in \u001b[0;36m_unpack_to_numpy\u001b[0;34m(x)\u001b[0m\n\u001b[1;32m   2295\u001b[0m     \u001b[0;32mif\u001b[0m \u001b[0mhasattr\u001b[0m\u001b[0;34m(\u001b[0m\u001b[0mx\u001b[0m\u001b[0;34m,\u001b[0m \u001b[0;34m'to_numpy'\u001b[0m\u001b[0;34m)\u001b[0m\u001b[0;34m:\u001b[0m\u001b[0;34m\u001b[0m\u001b[0;34m\u001b[0m\u001b[0m\n\u001b[1;32m   2296\u001b[0m         \u001b[0;31m# Assume that any function to_numpy() do actually return a numpy array\u001b[0m\u001b[0;34m\u001b[0m\u001b[0;34m\u001b[0m\u001b[0m\n\u001b[0;32m-> 2297\u001b[0;31m         \u001b[0;32mreturn\u001b[0m \u001b[0mx\u001b[0m\u001b[0;34m.\u001b[0m\u001b[0mto_numpy\u001b[0m\u001b[0;34m(\u001b[0m\u001b[0;34m)\u001b[0m\u001b[0;34m\u001b[0m\u001b[0;34m\u001b[0m\u001b[0m\n\u001b[0m\u001b[1;32m   2298\u001b[0m     \u001b[0;32mif\u001b[0m \u001b[0mhasattr\u001b[0m\u001b[0;34m(\u001b[0m\u001b[0mx\u001b[0m\u001b[0;34m,\u001b[0m \u001b[0;34m'values'\u001b[0m\u001b[0;34m)\u001b[0m\u001b[0;34m:\u001b[0m\u001b[0;34m\u001b[0m\u001b[0;34m\u001b[0m\u001b[0m\n\u001b[1;32m   2299\u001b[0m         \u001b[0mxtmp\u001b[0m \u001b[0;34m=\u001b[0m \u001b[0mx\u001b[0m\u001b[0;34m.\u001b[0m\u001b[0mvalues\u001b[0m\u001b[0;34m\u001b[0m\u001b[0;34m\u001b[0m\u001b[0m\n",
            "\u001b[0;31mTypeError\u001b[0m: 'Column' object is not callable"
          ]
        },
        {
          "output_type": "display_data",
          "data": {
            "text/plain": [
              "<Figure size 640x480 with 1 Axes>"
            ],
            "image/png": "[encoded data removed]"
          },
          "metadata": {}
        }
      ]
    },
    {
      "cell_type": "markdown",
      "source": [
        "#7"
      ],
      "metadata": {
        "id": "Hf0fEtl6AqSY"
      }
    },
    {
      "cell_type": "code",
      "source": [
        "from pyspark.ml.feature import StringIndexer\n",
        "\n",
        "labelIndexer = StringIndexer(inputCol=\"_c1\", outputCol=\"_C11\")\n",
        "model=labelIndexer.fit(df_spark)\n",
        "_df_spark=model.transform(df_spark)"
      ],
      "metadata": {
        "id": "P8ZAbikUBBKx"
      },
      "execution_count": 65,
      "outputs": []
    },
    {
      "cell_type": "code",
      "source": [
        "featureIndexer = StringIndexer(inputCol=\"attackB\", outputCol=\"__attackB\")\n",
        "model=featureIndexer.fit(_df_spark)\n",
        "_df_spark=model.transform(_df_spark)"
      ],
      "metadata": {
        "id": "3H-XmwFnYJ5w"
      },
      "execution_count": 66,
      "outputs": []
    },
    {
      "cell_type": "code",
      "source": [
        "from pyspark.ml.feature import VectorAssembler\n",
        "\n",
        "va = VectorAssembler(inputCols=[\"__attackB\"], outputCol=\"__attackB_Va\")\n",
        "_df_spark = va.transform(_df_spark)"
      ],
      "metadata": {
        "id": "ypEgeJ-GYTue"
      },
      "execution_count": 67,
      "outputs": []
    },
    {
      "cell_type": "code",
      "source": [
        "from pyspark.ml.stat import ChiSquareTest\n",
        "r = ChiSquareTest.test(_df_spark, \"__attackB_Va\", \"_C11\")"
      ],
      "metadata": {
        "id": "eMCbdc-fYiS5"
      },
      "execution_count": 68,
      "outputs": []
    },
    {
      "cell_type": "code",
      "source": [
        "r.show()"
      ],
      "metadata": {
        "colab": {
          "base_uri": "https://localhost:8080/"
        },
        "id": "igZODHnOYm6_",
        "outputId": "fe2fd64d-8f6b-4f2e-a426-d45833b6220c"
      },
      "execution_count": 69,
      "outputs": [
        {
          "output_type": "stream",
          "name": "stdout",
          "text": [
            "+-------+----------------+--------------------+\n",
            "|pValues|degreesOfFreedom|          statistics|\n",
            "+-------+----------------+--------------------+\n",
            "|  [0.0]|             [2]|[189469.40558178938]|\n",
            "+-------+----------------+--------------------+\n",
            "\n"
          ]
        }
      ]
    },
    {
      "cell_type": "markdown",
      "source": [
        "p-value 값이 0인걸봐서 임계치인 0.05값보다 작으므로 두 속성간의 연관이 없다는 귀무가설은 기각된다고 추론할 수 있다."
      ],
      "metadata": {
        "id": "aXBjKnJSYsNH"
      }
    },
    {
      "cell_type": "markdown",
      "source": [
        "\n",
        "#8\n"
      ],
      "metadata": {
        "id": "MCq3bUXlAqVA"
      }
    },
    {
      "cell_type": "code",
      "source": [
        "df_spark.printSchema()"
      ],
      "metadata": {
        "colab": {
          "base_uri": "https://localhost:8080/"
        },
        "id": "rP1LVduqaPYI",
        "outputId": "1bba3751-04f9-4727-8f10-35617b9ef1e7"
      },
      "execution_count": 70,
      "outputs": [
        {
          "output_type": "stream",
          "name": "stdout",
          "text": [
            "root\n",
            " |-- _c0: integer (nullable = true)\n",
            " |-- _c1: string (nullable = true)\n",
            " |-- _c2: string (nullable = true)\n",
            " |-- _c3: string (nullable = true)\n",
            " |-- _c4: integer (nullable = true)\n",
            " |-- _c5: integer (nullable = true)\n",
            " |-- _c6: integer (nullable = true)\n",
            " |-- _c7: integer (nullable = true)\n",
            " |-- _c8: integer (nullable = true)\n",
            " |-- _c9: integer (nullable = true)\n",
            " |-- _c10: integer (nullable = true)\n",
            " |-- _c11: integer (nullable = true)\n",
            " |-- _c12: integer (nullable = true)\n",
            " |-- _c13: integer (nullable = true)\n",
            " |-- _c14: integer (nullable = true)\n",
            " |-- _c15: integer (nullable = true)\n",
            " |-- _c16: integer (nullable = true)\n",
            " |-- _c17: integer (nullable = true)\n",
            " |-- _c18: integer (nullable = true)\n",
            " |-- _c19: integer (nullable = true)\n",
            " |-- _c20: integer (nullable = true)\n",
            " |-- _c21: integer (nullable = true)\n",
            " |-- _c22: integer (nullable = true)\n",
            " |-- _c23: integer (nullable = true)\n",
            " |-- _c24: double (nullable = true)\n",
            " |-- _c25: double (nullable = true)\n",
            " |-- _c26: double (nullable = true)\n",
            " |-- _c27: double (nullable = true)\n",
            " |-- _c28: double (nullable = true)\n",
            " |-- _c29: double (nullable = true)\n",
            " |-- _c30: double (nullable = true)\n",
            " |-- _c31: integer (nullable = true)\n",
            " |-- _c32: integer (nullable = true)\n",
            " |-- _c33: double (nullable = true)\n",
            " |-- _c34: double (nullable = true)\n",
            " |-- _c35: double (nullable = true)\n",
            " |-- _c36: double (nullable = true)\n",
            " |-- _c37: double (nullable = true)\n",
            " |-- _c38: double (nullable = true)\n",
            " |-- _c39: double (nullable = true)\n",
            " |-- _c40: double (nullable = true)\n",
            " |-- _c41: string (nullable = true)\n",
            " |-- label: integer (nullable = false)\n",
            " |-- attackB: string (nullable = false)\n",
            " |-- __c1: string (nullable = true)\n",
            "\n"
          ]
        }
      ]
    },
    {
      "cell_type": "code",
      "source": [
        "ve = VectorAssembler(inputCols=[\"_c4\",'_c5','_c7','_c8','_c9','_c10','_c11','_c12','_c13','_c14','_c15','_c16','_c17','_c18','_c19','_c20','_c21','_c22','_c23','_c24','_c25','_c26','_c27','_c28','_c29','_c30','_c31','_c32','_c33','_c34','_c35','_c36','_c37','_c38','_c39','_c40'], outputCol=\"features\")\n",
        "df_spark = ve.transform(df_spark)"
      ],
      "metadata": {
        "id": "cf7dHgAiBBop"
      },
      "execution_count": 71,
      "outputs": []
    },
    {
      "cell_type": "code",
      "source": [
        "df_spark.select(df_spark['label'], df_spark['features']).show(10)"
      ],
      "metadata": {
        "colab": {
          "base_uri": "https://localhost:8080/"
        },
        "id": "rJaEp6icaaPg",
        "outputId": "6b6d8d1c-dfc5-4d32-b1c7-d73ed826ea5b"
      },
      "execution_count": 72,
      "outputs": [
        {
          "output_type": "stream",
          "name": "stdout",
          "text": [
            "+-----+--------------------+\n",
            "|label|            features|\n",
            "+-----+--------------------+\n",
            "|    0|(36,[0,1,6,17,18,...|\n",
            "|    0|(36,[0,1,6,17,18,...|\n",
            "|    0|(36,[0,1,6,17,18,...|\n",
            "|    0|(36,[0,1,6,17,18,...|\n",
            "|    0|(36,[0,1,6,17,18,...|\n",
            "|    0|(36,[0,1,6,17,18,...|\n",
            "|    0|(36,[0,1,6,17,18,...|\n",
            "|    0|(36,[0,1,6,17,18,...|\n",
            "|    0|(36,[0,1,6,17,18,...|\n",
            "|    0|(36,[0,1,4,6,17,1...|\n",
            "+-----+--------------------+\n",
            "only showing top 10 rows\n",
            "\n"
          ]
        }
      ]
    },
    {
      "cell_type": "markdown",
      "source": [
        "#9"
      ],
      "metadata": {
        "id": "c3lZGuMLAqXX"
      }
    },
    {
      "cell_type": "code",
      "source": [
        "train, test = df_spark.randomSplit([0.6,0.4])\n",
        "from pyspark.ml.classification import LinearSVC\n",
        "lsvc = LinearSVC(maxIter=10, regParam=0.1)"
      ],
      "metadata": {
        "id": "Er_-HuDUBCPY"
      },
      "execution_count": 75,
      "outputs": []
    },
    {
      "cell_type": "code",
      "source": [
        "lsvcModel = lsvc.fit(train)\n",
        "print(\"Coefficients: \" + str(lsvcModel.coefficients))\n",
        "print(\"Intercept: \" + str(lsvcModel.intercept))\n",
        "\n",
        "testDf = lsvcModel.transform(test)"
      ],
      "metadata": {
        "colab": {
          "base_uri": "https://localhost:8080/"
        },
        "id": "NV7vrzw9avSL",
        "outputId": "7c72444d-0a5f-4eb9-f52d-77ebd11d6b8f"
      },
      "execution_count": 76,
      "outputs": [
        {
          "output_type": "stream",
          "name": "stdout",
          "text": [
            "Coefficients: [3.540976972105841e-09,4.769824986186126e-07,0.6799309946531916,2.18981592879884,0.10915737795787046,1.425508539366188,-0.15604740026363587,0.001860171769746162,2.044064478183996,-0.37156939704212166,-0.0014999419463123202,-0.028405848835144458,0.12074668306198466,-0.18969534492907805,0.0,0.0,-0.546935777134903,0.0019755010246835093,0.0012512652073642752,0.28176716157330606,0.28148275890755525,0.23549398164612512,0.25514736149114364,-0.4769426567080655,0.48801688649875036,-0.3117421498005443,0.0033012536635061065,-0.0006292836068892662,-0.15805869224872213,-1.0494702537399465,0.49033407602153584,0.29469854723494954,0.280760197019513,0.28094567899579803,0.26586314660451815,0.2912703436931371]\n",
            "Intercept: -1.0503635171714336\n"
          ]
        }
      ]
    },
    {
      "cell_type": "code",
      "source": [
        "testDf.select(\"prediction\",\"label\").show()"
      ],
      "metadata": {
        "colab": {
          "base_uri": "https://localhost:8080/"
        },
        "id": "zsOMupDobIAx",
        "outputId": "8955a22c-7af7-4af6-97a5-492eb7b199f4"
      },
      "execution_count": 77,
      "outputs": [
        {
          "output_type": "stream",
          "name": "stdout",
          "text": [
            "+----------+-----+\n",
            "|prediction|label|\n",
            "+----------+-----+\n",
            "|       0.0|    1|\n",
            "|       0.0|    1|\n",
            "|       0.0|    1|\n",
            "|       0.0|    1|\n",
            "|       0.0|    1|\n",
            "|       0.0|    1|\n",
            "|       0.0|    1|\n",
            "|       0.0|    1|\n",
            "|       0.0|    1|\n",
            "|       0.0|    1|\n",
            "|       0.0|    1|\n",
            "|       0.0|    1|\n",
            "|       0.0|    1|\n",
            "|       0.0|    1|\n",
            "|       0.0|    1|\n",
            "|       0.0|    1|\n",
            "|       0.0|    1|\n",
            "|       0.0|    1|\n",
            "|       0.0|    1|\n",
            "|       0.0|    1|\n",
            "+----------+-----+\n",
            "only showing top 20 rows\n",
            "\n"
          ]
        }
      ]
    },
    {
      "cell_type": "markdown",
      "source": [
        "#10"
      ],
      "metadata": {
        "id": "djzsaN37AqaW"
      }
    },
    {
      "cell_type": "code",
      "source": [
        "ve = VectorAssembler(inputCols=[\"_c1\",\"_c4\",'_c5','_c7','_c8','_c9','_c10','_c11','_c12','_c13','_c14','_c15','_c16','_c17','_c18','_c19','_c20','_c21','_c22','_c23','_c24','_c25','_c26','_c27','_c28','_c29','_c30','_c31','_c32','_c33','_c34','_c35','_c36','_c37','_c38','_c39','_c40'], outputCol=\"features\")\n",
        "df_spark = ve.transform(df_spark)"
      ],
      "metadata": {
        "colab": {
          "base_uri": "https://localhost:8080/",
          "height": 417
        },
        "id": "qO_Lo0HMA6-H",
        "outputId": "ac56a644-4f37-424d-af7f-4e945af9b1a4"
      },
      "execution_count": 78,
      "outputs": [
        {
          "output_type": "error",
          "ename": "IllegalArgumentException",
          "evalue": "ignored",
          "traceback": [
            "\u001b[0;31m---------------------------------------------------------------------------\u001b[0m",
            "\u001b[0;31mIllegalArgumentException\u001b[0m                  Traceback (most recent call last)",
            "\u001b[0;32m<ipython-input-78-f0a9e077e6d1>\u001b[0m in \u001b[0;36m<cell line: 2>\u001b[0;34m()\u001b[0m\n\u001b[1;32m      1\u001b[0m \u001b[0mve\u001b[0m \u001b[0;34m=\u001b[0m \u001b[0mVectorAssembler\u001b[0m\u001b[0;34m(\u001b[0m\u001b[0minputCols\u001b[0m\u001b[0;34m=\u001b[0m\u001b[0;34m[\u001b[0m\u001b[0;34m\"_c1\"\u001b[0m\u001b[0;34m,\u001b[0m\u001b[0;34m\"_c4\"\u001b[0m\u001b[0;34m,\u001b[0m\u001b[0;34m'_c5'\u001b[0m\u001b[0;34m,\u001b[0m\u001b[0;34m'_c7'\u001b[0m\u001b[0;34m,\u001b[0m\u001b[0;34m'_c8'\u001b[0m\u001b[0;34m,\u001b[0m\u001b[0;34m'_c9'\u001b[0m\u001b[0;34m,\u001b[0m\u001b[0;34m'_c10'\u001b[0m\u001b[0;34m,\u001b[0m\u001b[0;34m'_c11'\u001b[0m\u001b[0;34m,\u001b[0m\u001b[0;34m'_c12'\u001b[0m\u001b[0;34m,\u001b[0m\u001b[0;34m'_c13'\u001b[0m\u001b[0;34m,\u001b[0m\u001b[0;34m'_c14'\u001b[0m\u001b[0;34m,\u001b[0m\u001b[0;34m'_c15'\u001b[0m\u001b[0;34m,\u001b[0m\u001b[0;34m'_c16'\u001b[0m\u001b[0;34m,\u001b[0m\u001b[0;34m'_c17'\u001b[0m\u001b[0;34m,\u001b[0m\u001b[0;34m'_c18'\u001b[0m\u001b[0;34m,\u001b[0m\u001b[0;34m'_c19'\u001b[0m\u001b[0;34m,\u001b[0m\u001b[0;34m'_c20'\u001b[0m\u001b[0;34m,\u001b[0m\u001b[0;34m'_c21'\u001b[0m\u001b[0;34m,\u001b[0m\u001b[0;34m'_c22'\u001b[0m\u001b[0;34m,\u001b[0m\u001b[0;34m'_c23'\u001b[0m\u001b[0;34m,\u001b[0m\u001b[0;34m'_c24'\u001b[0m\u001b[0;34m,\u001b[0m\u001b[0;34m'_c25'\u001b[0m\u001b[0;34m,\u001b[0m\u001b[0;34m'_c26'\u001b[0m\u001b[0;34m,\u001b[0m\u001b[0;34m'_c27'\u001b[0m\u001b[0;34m,\u001b[0m\u001b[0;34m'_c28'\u001b[0m\u001b[0;34m,\u001b[0m\u001b[0;34m'_c29'\u001b[0m\u001b[0;34m,\u001b[0m\u001b[0;34m'_c30'\u001b[0m\u001b[0;34m,\u001b[0m\u001b[0;34m'_c31'\u001b[0m\u001b[0;34m,\u001b[0m\u001b[0;34m'_c32'\u001b[0m\u001b[0;34m,\u001b[0m\u001b[0;34m'_c33'\u001b[0m\u001b[0;34m,\u001b[0m\u001b[0;34m'_c34'\u001b[0m\u001b[0;34m,\u001b[0m\u001b[0;34m'_c35'\u001b[0m\u001b[0;34m,\u001b[0m\u001b[0;34m'_c36'\u001b[0m\u001b[0;34m,\u001b[0m\u001b[0;34m'_c37'\u001b[0m\u001b[0;34m,\u001b[0m\u001b[0;34m'_c38'\u001b[0m\u001b[0;34m,\u001b[0m\u001b[0;34m'_c39'\u001b[0m\u001b[0;34m,\u001b[0m\u001b[0;34m'_c40'\u001b[0m\u001b[0;34m]\u001b[0m\u001b[0;34m,\u001b[0m \u001b[0moutputCol\u001b[0m\u001b[0;34m=\u001b[0m\u001b[0;34m\"features\"\u001b[0m\u001b[0;34m)\u001b[0m\u001b[0;34m\u001b[0m\u001b[0;34m\u001b[0m\u001b[0m\n\u001b[0;32m----> 2\u001b[0;31m \u001b[0mdf_spark\u001b[0m \u001b[0;34m=\u001b[0m \u001b[0mve\u001b[0m\u001b[0;34m.\u001b[0m\u001b[0mtransform\u001b[0m\u001b[0;34m(\u001b[0m\u001b[0mdf_spark\u001b[0m\u001b[0;34m)\u001b[0m\u001b[0;34m\u001b[0m\u001b[0;34m\u001b[0m\u001b[0m\n\u001b[0m",
            "\u001b[0;32m/usr/local/lib/python3.10/dist-packages/pyspark/ml/base.py\u001b[0m in \u001b[0;36mtransform\u001b[0;34m(self, dataset, params)\u001b[0m\n\u001b[1;32m    260\u001b[0m                 \u001b[0;32mreturn\u001b[0m \u001b[0mself\u001b[0m\u001b[0;34m.\u001b[0m\u001b[0mcopy\u001b[0m\u001b[0;34m(\u001b[0m\u001b[0mparams\u001b[0m\u001b[0;34m)\u001b[0m\u001b[0;34m.\u001b[0m\u001b[0m_transform\u001b[0m\u001b[0;34m(\u001b[0m\u001b[0mdataset\u001b[0m\u001b[0;34m)\u001b[0m\u001b[0;34m\u001b[0m\u001b[0;34m\u001b[0m\u001b[0m\n\u001b[1;32m    261\u001b[0m             \u001b[0;32melse\u001b[0m\u001b[0;34m:\u001b[0m\u001b[0;34m\u001b[0m\u001b[0;34m\u001b[0m\u001b[0m\n\u001b[0;32m--> 262\u001b[0;31m                 \u001b[0;32mreturn\u001b[0m \u001b[0mself\u001b[0m\u001b[0;34m.\u001b[0m\u001b[0m_transform\u001b[0m\u001b[0;34m(\u001b[0m\u001b[0mdataset\u001b[0m\u001b[0;34m)\u001b[0m\u001b[0;34m\u001b[0m\u001b[0;34m\u001b[0m\u001b[0m\n\u001b[0m\u001b[1;32m    263\u001b[0m         \u001b[0;32melse\u001b[0m\u001b[0;34m:\u001b[0m\u001b[0;34m\u001b[0m\u001b[0;34m\u001b[0m\u001b[0m\n\u001b[1;32m    264\u001b[0m             \u001b[0;32mraise\u001b[0m \u001b[0mTypeError\u001b[0m\u001b[0;34m(\u001b[0m\u001b[0;34m\"Params must be a param map but got %s.\"\u001b[0m \u001b[0;34m%\u001b[0m \u001b[0mtype\u001b[0m\u001b[0;34m(\u001b[0m\u001b[0mparams\u001b[0m\u001b[0;34m)\u001b[0m\u001b[0;34m)\u001b[0m\u001b[0;34m\u001b[0m\u001b[0;34m\u001b[0m\u001b[0m\n",
            "\u001b[0;32m/usr/local/lib/python3.10/dist-packages/pyspark/ml/wrapper.py\u001b[0m in \u001b[0;36m_transform\u001b[0;34m(self, dataset)\u001b[0m\n\u001b[1;32m    396\u001b[0m \u001b[0;34m\u001b[0m\u001b[0m\n\u001b[1;32m    397\u001b[0m         \u001b[0mself\u001b[0m\u001b[0;34m.\u001b[0m\u001b[0m_transfer_params_to_java\u001b[0m\u001b[0;34m(\u001b[0m\u001b[0;34m)\u001b[0m\u001b[0;34m\u001b[0m\u001b[0;34m\u001b[0m\u001b[0m\n\u001b[0;32m--> 398\u001b[0;31m         \u001b[0;32mreturn\u001b[0m \u001b[0mDataFrame\u001b[0m\u001b[0;34m(\u001b[0m\u001b[0mself\u001b[0m\u001b[0;34m.\u001b[0m\u001b[0m_java_obj\u001b[0m\u001b[0;34m.\u001b[0m\u001b[0mtransform\u001b[0m\u001b[0;34m(\u001b[0m\u001b[0mdataset\u001b[0m\u001b[0;34m.\u001b[0m\u001b[0m_jdf\u001b[0m\u001b[0;34m)\u001b[0m\u001b[0;34m,\u001b[0m \u001b[0mdataset\u001b[0m\u001b[0;34m.\u001b[0m\u001b[0msparkSession\u001b[0m\u001b[0;34m)\u001b[0m\u001b[0;34m\u001b[0m\u001b[0;34m\u001b[0m\u001b[0m\n\u001b[0m\u001b[1;32m    399\u001b[0m \u001b[0;34m\u001b[0m\u001b[0m\n\u001b[1;32m    400\u001b[0m \u001b[0;34m\u001b[0m\u001b[0m\n",
            "\u001b[0;32m/usr/local/lib/python3.10/dist-packages/py4j/java_gateway.py\u001b[0m in \u001b[0;36m__call__\u001b[0;34m(self, *args)\u001b[0m\n\u001b[1;32m   1320\u001b[0m \u001b[0;34m\u001b[0m\u001b[0m\n\u001b[1;32m   1321\u001b[0m         \u001b[0manswer\u001b[0m \u001b[0;34m=\u001b[0m \u001b[0mself\u001b[0m\u001b[0;34m.\u001b[0m\u001b[0mgateway_client\u001b[0m\u001b[0;34m.\u001b[0m\u001b[0msend_command\u001b[0m\u001b[0;34m(\u001b[0m\u001b[0mcommand\u001b[0m\u001b[0;34m)\u001b[0m\u001b[0;34m\u001b[0m\u001b[0;34m\u001b[0m\u001b[0m\n\u001b[0;32m-> 1322\u001b[0;31m         return_value = get_return_value(\n\u001b[0m\u001b[1;32m   1323\u001b[0m             answer, self.gateway_client, self.target_id, self.name)\n\u001b[1;32m   1324\u001b[0m \u001b[0;34m\u001b[0m\u001b[0m\n",
            "\u001b[0;32m/usr/local/lib/python3.10/dist-packages/pyspark/errors/exceptions/captured.py\u001b[0m in \u001b[0;36mdeco\u001b[0;34m(*a, **kw)\u001b[0m\n\u001b[1;32m    183\u001b[0m                 \u001b[0;31m# Hide where the exception came from that shows a non-Pythonic\u001b[0m\u001b[0;34m\u001b[0m\u001b[0;34m\u001b[0m\u001b[0m\n\u001b[1;32m    184\u001b[0m                 \u001b[0;31m# JVM exception message.\u001b[0m\u001b[0;34m\u001b[0m\u001b[0;34m\u001b[0m\u001b[0m\n\u001b[0;32m--> 185\u001b[0;31m                 \u001b[0;32mraise\u001b[0m \u001b[0mconverted\u001b[0m \u001b[0;32mfrom\u001b[0m \u001b[0;32mNone\u001b[0m\u001b[0;34m\u001b[0m\u001b[0;34m\u001b[0m\u001b[0m\n\u001b[0m\u001b[1;32m    186\u001b[0m             \u001b[0;32melse\u001b[0m\u001b[0;34m:\u001b[0m\u001b[0;34m\u001b[0m\u001b[0;34m\u001b[0m\u001b[0m\n\u001b[1;32m    187\u001b[0m                 \u001b[0;32mraise\u001b[0m\u001b[0;34m\u001b[0m\u001b[0;34m\u001b[0m\u001b[0m\n",
            "\u001b[0;31mIllegalArgumentException\u001b[0m: Data type string of column _c1 is not supported."
          ]
        }
      ]
    },
    {
      "cell_type": "code",
      "source": [],
      "metadata": {
        "id": "cFsLotqyb06F"
      },
      "execution_count": null,
      "outputs": []
    }
  ]
}